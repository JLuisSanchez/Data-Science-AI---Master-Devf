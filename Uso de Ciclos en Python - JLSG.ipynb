{
  "nbformat": 4,
  "nbformat_minor": 0,
  "metadata": {
    "colab": {
      "name": "JLSG - Ciclos Challenge.ipynb",
      "provenance": [],
      "collapsed_sections": []
    },
    "kernelspec": {
      "name": "python3",
      "display_name": "Python 3"
    },
    "language_info": {
      "name": "python"
    }
  },
  "cells": [
    {
      "cell_type": "markdown",
      "metadata": {
        "id": "VEn_SLPyboN0"
      },
      "source": [
        "# Ciclos\n"
      ]
    },
    {
      "cell_type": "markdown",
      "metadata": {
        "id": "Ltf91jwLSB_d"
      },
      "source": [
        "Lee con atención las instrucciones en los siguientes ejercicios y ejecuta:"
      ]
    },
    {
      "cell_type": "markdown",
      "metadata": {
        "id": "8CXLWwF2TS5D"
      },
      "source": [
        "1. Escribe un ciclo que permita imprimir los números del 1 al 10"
      ]
    },
    {
      "cell_type": "code",
      "metadata": {
        "id": "wAOmpofLR1d5",
        "colab": {
          "base_uri": "https://localhost:8080/"
        },
        "outputId": "d97b604a-c37a-4ec4-8c15-491816152847"
      },
      "source": [
        "for i in range(1,11):\n",
        "  print(i)"
      ],
      "execution_count": null,
      "outputs": [
        {
          "output_type": "stream",
          "name": "stdout",
          "text": [
            "1\n",
            "2\n",
            "3\n",
            "4\n",
            "5\n",
            "6\n",
            "7\n",
            "8\n",
            "9\n",
            "10\n"
          ]
        }
      ]
    },
    {
      "cell_type": "markdown",
      "metadata": {
        "id": "JGlH_p9ll3yO"
      },
      "source": [
        "2. Escribe un ciclo que imprima los números pares entre el 30 y el 50 (incluyendo el 30 y excluyendo el 50)"
      ]
    },
    {
      "cell_type": "code",
      "metadata": {
        "id": "_hobkTpAUEB4",
        "colab": {
          "base_uri": "https://localhost:8080/"
        },
        "outputId": "822e185c-f01f-4e48-c251-5a35e7bddd8f"
      },
      "source": [
        "for i in range(30,50):\n",
        "  if i %2 == 0:\n",
        "    print(i)"
      ],
      "execution_count": null,
      "outputs": [
        {
          "output_type": "stream",
          "name": "stdout",
          "text": [
            "30\n",
            "32\n",
            "34\n",
            "36\n",
            "38\n",
            "40\n",
            "42\n",
            "44\n",
            "46\n",
            "48\n"
          ]
        }
      ]
    },
    {
      "cell_type": "markdown",
      "metadata": {
        "id": "nTis6gKvoNkm"
      },
      "source": [
        "3. Escribe un ciclo que recorra la siguiente lista e imprima cada nombre de pokemon:"
      ]
    },
    {
      "cell_type": "code",
      "metadata": {
        "id": "C2B4nzcENgB7"
      },
      "source": [
        "pokemon = ['Bulbasaur', 'Ivysaur', 'Squirtle', 'Venusaur', 'Charmander', 'Squirtle', 'Charmeleon', 'Pidgey', 'Pikachu', 'Squirtle']"
      ],
      "execution_count": null,
      "outputs": []
    },
    {
      "cell_type": "code",
      "metadata": {
        "id": "l-hgO3AFkVzk",
        "colab": {
          "base_uri": "https://localhost:8080/"
        },
        "outputId": "7209eba0-30b6-401d-86c3-9e46ebc010cd"
      },
      "source": [
        "for i in pokemon:\n",
        "  print(i)"
      ],
      "execution_count": null,
      "outputs": [
        {
          "output_type": "stream",
          "name": "stdout",
          "text": [
            "Bulbasaur\n",
            "Ivysaur\n",
            "Squirtle\n",
            "Venusaur\n",
            "Charmander\n",
            "Squirtle\n",
            "Charmeleon\n",
            "Pidgey\n",
            "Pikachu\n",
            "Squirtle\n"
          ]
        }
      ]
    },
    {
      "cell_type": "markdown",
      "metadata": {
        "id": "h7VTsi7Lh3C-"
      },
      "source": [
        "4. Escribe un ciclo que recorra la lista pokemon. En caso de encontrarnos con el nombre 'Squirtle' al iterar la lista, imprima un mensaje con el siguiente formato:\n",
        "\n",
        "index - pokemon - Vamo a calmarno\n",
        "\n",
        "Donde:\n",
        "- index es número de posición en la lista donde encontramos 'Squirtle'. Debe ser una variable.\n",
        "- pokemon es el nombre del pokemon que estamos buscando\n",
        "- \"Vamo a calmarno\" es la frase de nuestro pokemon. "
      ]
    },
    {
      "cell_type": "code",
      "metadata": {
        "id": "I3I7VbTdoin4",
        "colab": {
          "base_uri": "https://localhost:8080/"
        },
        "outputId": "8ce82ff5-d719-41c3-8cdb-a554fa327e48"
      },
      "source": [
        "index = 0\n",
        "#while \n",
        "for i in pokemon:\n",
        "  index = index+1\n",
        "  if i == 'Squirtle':\n",
        "    print(index, i,\"Vamo a calmarno\")\n",
        "    \n"
      ],
      "execution_count": null,
      "outputs": [
        {
          "output_type": "stream",
          "name": "stdout",
          "text": [
            "3 Squirtle Vamo a calmarno\n",
            "6 Squirtle Vamo a calmarno\n",
            "10 Squirtle Vamo a calmarno\n"
          ]
        }
      ]
    },
    {
      "cell_type": "markdown",
      "metadata": {
        "id": "HOwNy5VOorNy"
      },
      "source": [
        "5. Del 0 al 20, muestra los valores en este rango de de 3 en 3, mediante un ciclo while (incluyendo al 20). Utiliza un condicional IF dentro del ciclo para detenerlo (utiliza break)."
      ]
    },
    {
      "cell_type": "code",
      "metadata": {
        "id": "mZx6iGmeoqEA",
        "colab": {
          "base_uri": "https://localhost:8080/"
        },
        "outputId": "72069711-1221-4452-c94c-6264747ee394"
      },
      "source": [
        "var = 0\n",
        "while True:\n",
        "  var+= 3\n",
        "  if var<20:\n",
        "    print(var)\n",
        "  else:\n",
        "    break\n",
        "\n",
        "\n"
      ],
      "execution_count": null,
      "outputs": [
        {
          "output_type": "stream",
          "name": "stdout",
          "text": [
            "3\n",
            "6\n",
            "9\n",
            "12\n",
            "15\n",
            "18\n"
          ]
        }
      ]
    },
    {
      "cell_type": "code",
      "source": [
        "var = 0\n",
        "while True:\n",
        "  var+= 3\n",
        "  if var<20:\n",
        "    print(var)\n",
        "  else:\n",
        "    var = 20\n",
        "    print(var)\n",
        "    break"
      ],
      "metadata": {
        "colab": {
          "base_uri": "https://localhost:8080/"
        },
        "id": "XI0hVtWjuIwq",
        "outputId": "9a21de08-cf31-4f50-ea45-4d2c40e15f0e"
      },
      "execution_count": null,
      "outputs": [
        {
          "output_type": "stream",
          "name": "stdout",
          "text": [
            "3\n",
            "6\n",
            "9\n",
            "12\n",
            "15\n",
            "18\n",
            "20\n"
          ]
        }
      ]
    },
    {
      "cell_type": "markdown",
      "metadata": {
        "id": "ato2HirpOAy9"
      },
      "source": [
        "6. Repite el ejercicio del punto 6 pero utilizando sólo la condicional del while."
      ]
    },
    {
      "cell_type": "code",
      "metadata": {
        "id": "r4NtOzm3op94",
        "colab": {
          "base_uri": "https://localhost:8080/"
        },
        "outputId": "4ae8e49b-a5c0-4531-88eb-8436a8d44327"
      },
      "source": [
        "var = 0\n",
        "while var<=20:\n",
        "  print(var)\n",
        "  var+= 3"
      ],
      "execution_count": null,
      "outputs": [
        {
          "output_type": "stream",
          "name": "stdout",
          "text": [
            "0\n",
            "3\n",
            "6\n",
            "9\n",
            "12\n",
            "15\n",
            "18\n"
          ]
        }
      ]
    },
    {
      "cell_type": "markdown",
      "metadata": {
        "id": "5W25SYZeORtE"
      },
      "source": [
        "7. Escribe un ciclo para imprimir los números impares entre el 0 y el 10. Utiliza una condicional junto con la palabra reservada \"continue\"."
      ]
    },
    {
      "cell_type": "code",
      "metadata": {
        "id": "mTpYdCzFop7s",
        "colab": {
          "base_uri": "https://localhost:8080/"
        },
        "outputId": "4e2e23e8-44e3-481e-af4f-f54c967375e8"
      },
      "source": [
        "for i in range(0,11):\n",
        "  if i%2 == 1:\n",
        "    print(i)\n",
        "    continue\n"
      ],
      "execution_count": null,
      "outputs": [
        {
          "output_type": "stream",
          "name": "stdout",
          "text": [
            "1\n",
            "3\n",
            "5\n",
            "7\n",
            "9\n"
          ]
        }
      ]
    },
    {
      "cell_type": "markdown",
      "metadata": {
        "id": "_jKHKuBkbxhX"
      },
      "source": [
        "###Recursos extra para estudiar y ejercios\n"
      ]
    },
    {
      "cell_type": "markdown",
      "metadata": {
        "id": "86XEDrCbdBCr"
      },
      "source": [
        "- Uso de [range en Python](https://www.w3schools.com/python/ref_func_range.asp)\n",
        "- Articulo corto de [Ciclos](https://pythonparanovatos.com/blog/como-usar-bucles-en-python/)\n",
        "- Ciclo for según [W3Schools](https://www.w3schools.com/python/python_for_loops.asp)\n",
        "- Ciclo while según [W3Schools](https://www.w3schools.com/python/python_while_loops.asp)\n",
        "- Ejercicios practicos en portal de [W3Schools](https://www.w3schools.com/python/python_exercises.asp)"
      ]
    }
  ]
}