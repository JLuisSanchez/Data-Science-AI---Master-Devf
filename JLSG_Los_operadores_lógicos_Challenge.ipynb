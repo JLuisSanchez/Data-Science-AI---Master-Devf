{
  "nbformat": 4,
  "nbformat_minor": 0,
  "metadata": {
    "colab": {
      "provenance": [],
      "include_colab_link": true
    },
    "kernelspec": {
      "name": "python3",
      "display_name": "Python 3"
    },
    "language_info": {
      "name": "python"
    }
  },
  "cells": [
    {
      "cell_type": "markdown",
      "metadata": {
        "id": "view-in-github",
        "colab_type": "text"
      },
      "source": [
        "<a href=\"https://colab.research.google.com/github/JLuisSanchez/Data-Science-AI---Master-Devf/blob/main/JLSG_Los_operadores_l%C3%B3gicos_Challenge.ipynb\" target=\"_parent\"><img src=\"https://colab.research.google.com/assets/colab-badge.svg\" alt=\"Open In Colab\"/></a>"
      ]
    },
    {
      "cell_type": "markdown",
      "metadata": {
        "id": "VEn_SLPyboN0"
      },
      "source": [
        "#Los operadores lógicos \n",
        "\n"
      ]
    },
    {
      "cell_type": "markdown",
      "metadata": {
        "id": "Ltf91jwLSB_d"
      },
      "source": [
        "**En este ejercicio debes mostrar el valor que se obtiene de las sentencias al ejecutarlas en codigo y explicarlas:**"
      ]
    },
    {
      "cell_type": "markdown",
      "metadata": {
        "id": "8CXLWwF2TS5D"
      },
      "source": [
        "1) **not true**"
      ]
    },
    {
      "cell_type": "code",
      "metadata": {
        "id": "dn0D2e0wB4mv",
        "colab": {
          "base_uri": "https://localhost:8080/"
        },
        "outputId": "c83e865a-a77b-4c60-dca2-305e693aef21"
      },
      "source": [
        "#Escribe el codigo aquí\n",
        "libros = 5\n",
        "if not libros == 5:\n",
        "  print(\"La cantidad de libros es diferente a 5\")\n",
        "else:\n",
        "  print(\"La cantidad de libros es 5\")\n",
        "\n",
        "\n"
      ],
      "execution_count": null,
      "outputs": [
        {
          "output_type": "stream",
          "name": "stdout",
          "text": [
            "La cantidad de libros es 5\n"
          ]
        }
      ]
    },
    {
      "cell_type": "markdown",
      "metadata": {
        "id": "LIIjBScjETLc"
      },
      "source": [
        "##Explicación del Not\n",
        "Para negar una operación booleana se utiliza el operador not seguido de la instrucción que se quiere negar, en el caso del programa escrito anteriormente, se utilizo not para negar que la cantidad de libros es igual a 5, como la primer condición se cumple debería de ser True pero al tener el Not pasa a False y ejecuta el else.\n",
        "\n",
        "🖍 ..."
      ]
    },
    {
      "cell_type": "markdown",
      "metadata": {
        "id": "JGlH_p9ll3yO"
      },
      "source": [
        "2) **not (1+2 != 3)**"
      ]
    },
    {
      "cell_type": "code",
      "metadata": {
        "id": "_hobkTpAUEB4",
        "colab": {
          "base_uri": "https://localhost:8080/"
        },
        "outputId": "560d737a-eabf-4d9e-b7e9-8fede77ebf70"
      },
      "source": [
        "#Escribe el codigo aquí\n",
        "not (1+2 != 3)\n",
        "\n"
      ],
      "execution_count": null,
      "outputs": [
        {
          "output_type": "execute_result",
          "data": {
            "text/plain": [
              "True"
            ]
          },
          "metadata": {},
          "execution_count": 7
        }
      ]
    },
    {
      "cell_type": "markdown",
      "metadata": {
        "id": "0Gw_3yeSFKRf"
      },
      "source": [
        "## Explicación de not(1+2 != 3)\n",
        "Se requiere evaluar si 1+2 es diferente de 3, la condición es falsa por lo que el valor obtenido es False pero al encontrarse el not fuera del parentesis, se niega la condición y se obtiene un True. \n",
        "\n",
        "🖍 ..."
      ]
    },
    {
      "cell_type": "markdown",
      "metadata": {
        "id": "nTis6gKvoNkm"
      },
      "source": [
        "3) **x = (len(\"jugar\") > 5) and (len(\"jugar\") < 10)**"
      ]
    },
    {
      "cell_type": "code",
      "metadata": {
        "id": "I3I7VbTdoin4",
        "colab": {
          "base_uri": "https://localhost:8080/"
        },
        "outputId": "56a70d7c-3330-4e71-a7a8-d68fce820c75"
      },
      "source": [
        "#Escribe el codigo aquí\n",
        "x = (len(\"jugar\") > 5) and (len(\"jugar\") < 10)\n",
        "print(x)"
      ],
      "execution_count": null,
      "outputs": [
        {
          "output_type": "stream",
          "name": "stdout",
          "text": [
            "False\n"
          ]
        }
      ]
    },
    {
      "cell_type": "markdown",
      "metadata": {
        "id": "Zml_nA0vFPqR"
      },
      "source": [
        "## Comparación de la longitud de las palabras con and\n",
        "\n",
        "Al utilizar el operador and ambas condiciones deben de ser verdaderas para obtener un valor Booleano True, en caso contrario siempre se obtendrá un False. En esta comparación primero se realiza la primer condicion (len(\"jugar\") > 5) la cual es Falsa porque la longitud de la palabra jugar es igual a 5, posteriormente se evalúa (len(\"jugar\") < 10) y es verdadera, para obtener el resultado y asignarlo a la variable x, se realiza la operación False and True, debido a que hay un False, el valor asignado a x es False. \n",
        "\n",
        "🖍 ..."
      ]
    },
    {
      "cell_type": "markdown",
      "metadata": {
        "id": "HOwNy5VOorNy"
      },
      "source": [
        "4) **\"alto\"[2] == \"t\" and x**"
      ]
    },
    {
      "cell_type": "code",
      "metadata": {
        "id": "mZx6iGmeoqEA",
        "colab": {
          "base_uri": "https://localhost:8080/"
        },
        "outputId": "8ad55817-40df-4b84-b9ff-87227ce8c878"
      },
      "source": [
        "#Escribe el codigo aquí\n",
        "\"alto\"[2] == \"t\" and x\n",
        "\n"
      ],
      "execution_count": null,
      "outputs": [
        {
          "output_type": "execute_result",
          "data": {
            "text/plain": [
              "False"
            ]
          },
          "metadata": {},
          "execution_count": 14
        }
      ]
    },
    {
      "cell_type": "markdown",
      "metadata": {
        "id": "ze-L4sA0FZv1"
      },
      "source": [
        "## Uso de índices y operador and\n",
        "En esta sección de código se realiza la primera condición \"alto\"[2] == \"t\", debido a que el índice comienza en el valor 0, la extracción de la posición 2 en la palabra \"alto\" corresponde con la letra \"t\" por lo que la primera condición es True, al evaluar la segunda condición se obtiene un False porque x no está definida ni haciendo una comparación formal, debido al False obtenido en la segunda condición, con el uso del and se concluye que el resultado es False.\n",
        "\n",
        "🖍 ..."
      ]
    },
    {
      "cell_type": "markdown",
      "metadata": {
        "id": "cCqs1tjHNpv4"
      },
      "source": [
        "5) **842913%10 != 3 and len(\"café\") == 3**"
      ]
    },
    {
      "cell_type": "code",
      "metadata": {
        "id": "70-kC-f9oqAe",
        "colab": {
          "base_uri": "https://localhost:8080/"
        },
        "outputId": "bf5d9e78-56ca-4598-a8a9-4e17446501e5"
      },
      "source": [
        "#Escribe el codigo aquí\n",
        "842913%10 != 3 and len(\"café\") == 3"
      ],
      "execution_count": null,
      "outputs": [
        {
          "output_type": "execute_result",
          "data": {
            "text/plain": [
              "False"
            ]
          },
          "metadata": {},
          "execution_count": 18
        }
      ]
    },
    {
      "cell_type": "markdown",
      "metadata": {
        "id": "TpDnFFjcGdkj"
      },
      "source": [
        "## Comparación con el uso de módulo y longitud\n",
        "\n",
        "Se evalua la primera condición:\n",
        "842913%10 != 3, se obtiene falso debido a que 842913%10 != 3 es igual a 3 y la comparación de diferencia se hace con un 3 por lo que los valores son iguales.\n",
        "\n",
        "Se evalua la segunda condición:\n",
        "len(\"café\") == 3, se obtiene falso debido a que la longitud de la palabra \"café\" es igual a 4 y se está comprobando igualdad con 3.\n",
        "\n",
        "De esta forma al usar and se obtiene:\n",
        "False + False = False \n",
        "\n",
        "🖍 ..."
      ]
    },
    {
      "cell_type": "markdown",
      "metadata": {
        "id": "ato2HirpOAy9"
      },
      "source": [
        "6) **0!=0 or \"a\" < \"y\"**"
      ]
    },
    {
      "cell_type": "code",
      "metadata": {
        "id": "r4NtOzm3op94",
        "colab": {
          "base_uri": "https://localhost:8080/"
        },
        "outputId": "a856e44a-a750-4a63-ed98-7ed72b921327"
      },
      "source": [
        "#Escribe el codigo aquí\n",
        "0 != 0 or \"a\" < \"y\"\n"
      ],
      "execution_count": null,
      "outputs": [
        {
          "output_type": "execute_result",
          "data": {
            "text/plain": [
              "True"
            ]
          },
          "metadata": {},
          "execution_count": 19
        }
      ]
    },
    {
      "cell_type": "markdown",
      "metadata": {
        "id": "Roy4PanwGfxi"
      },
      "source": [
        "## Comparación de números y posición alfabetica de letras\n",
        "Primera condición 0 != 0:\n",
        "La respuesta es false porque se trata de dos números iguales, no diferentes.\n",
        "\n",
        "Segunda condición \"a\" < \"y\":\n",
        "La respuesta es True debido a que por posición alfabetica a se encuentra antes que y.\n",
        "\n",
        "Decisión con el operador or:\n",
        "Se obtiene como resultado True debido a que al menos una de las dos condiciones evaluadas previamente son verdaderas.\n",
        "\n",
        "🖍 ..."
      ]
    },
    {
      "cell_type": "markdown",
      "metadata": {
        "id": "5W25SYZeORtE"
      },
      "source": [
        "7) **True or int(\"50\") >= 50**"
      ]
    },
    {
      "cell_type": "code",
      "metadata": {
        "id": "mTpYdCzFop7s",
        "colab": {
          "base_uri": "https://localhost:8080/"
        },
        "outputId": "473ab81b-9a91-470f-bebb-de37033a1693"
      },
      "source": [
        "#Escribe el codigo aquí\n",
        "True or int(\"50\") >= 50"
      ],
      "execution_count": null,
      "outputs": [
        {
          "output_type": "execute_result",
          "data": {
            "text/plain": [
              "True"
            ]
          },
          "metadata": {},
          "execution_count": 20
        }
      ]
    },
    {
      "cell_type": "markdown",
      "metadata": {
        "id": "hMZpEBHCGkqJ"
      },
      "source": [
        "## Uso directo de un operador Booleano en or y evaluación de igualdad entre conversión de tipos de valores.\n",
        "\n",
        "Primera condición True:\n",
        "No es una condición, solo se trata de la asignación directa del valor Booleano True.\n",
        "\n",
        "Segunda condición int(\"50\") >= 50:\n",
        "El resultado de esta comparación es True debido a que se hace una transformación del valor en texto \"50\" a un valor númerico y luego se compara igualdad o mayor que con el mismo valor 50.\n",
        "\n",
        "Decisión con el operador or:\n",
        "Se obtiene como resultado True debido a que al menos una de las dos operaciones es verdadera, cabe destacar que debido a que en la intrucción inicial se asigna directamente el valor Booleano True, esta comparación siempre será verdadera.\n",
        "\n",
        "🖍 ..."
      ]
    },
    {
      "cell_type": "markdown",
      "metadata": {
        "id": "Dp4beMsqOhOh"
      },
      "source": [
        "8) **edad = 20**\n",
        "\n",
        "**not(x) or edad%2==0**"
      ]
    },
    {
      "cell_type": "code",
      "metadata": {
        "id": "bTco9wG8op5G",
        "colab": {
          "base_uri": "https://localhost:8080/"
        },
        "outputId": "cc2e0f90-c69c-4f49-f368-6689a2178807"
      },
      "source": [
        "#Escribe el codigo aquí\n",
        "edad = 20\n",
        "not(x) or edad%2 == 0\n",
        "\n",
        "\n"
      ],
      "execution_count": null,
      "outputs": [
        {
          "output_type": "execute_result",
          "data": {
            "text/plain": [
              "False"
            ]
          },
          "metadata": {},
          "execution_count": 24
        }
      ]
    },
    {
      "cell_type": "markdown",
      "metadata": {
        "id": "AyH5LeZ4HgaZ"
      },
      "source": [
        "## Negación de una variable sin asignación de valor y uso del operador módulo %\n",
        "\n",
        "Primera condición not(x)\n",
        "El resultado obtenido es True debido a que una variable sin asignación de una condición siempre será False pero se utiliza el not para obtener True.\n",
        "\n",
        "Segunda condición \n",
        "\n",
        "Escribe el explicacion aquí edad%2 == 0\n",
        "Se obtiene True debido a que el residuo al dividir 20 entre 2 es igual a cero.\n",
        "\n",
        "Decisión con el operador or:\n",
        "Se obtiene True como retorno porque las dos condiciones evaluadas son verdaderas.\n",
        "\n",
        "🖍 ..."
      ]
    },
    {
      "cell_type": "markdown",
      "metadata": {
        "id": "QXou2mt7Oy4r"
      },
      "source": [
        "9) **es_cliente = False**\n",
        "\n",
        "**not (es_cliente and not(edad < 18))**"
      ]
    },
    {
      "cell_type": "code",
      "metadata": {
        "id": "-p3G0qH3op2X",
        "colab": {
          "base_uri": "https://localhost:8080/"
        },
        "outputId": "0233b93b-b0b8-432a-ff81-05eb646fa8c3"
      },
      "source": [
        "#Escribe el codigo aquí\n",
        "es_cliente = False\n",
        "not(es_cliente and not(edad < 18))\n"
      ],
      "execution_count": null,
      "outputs": [
        {
          "output_type": "execute_result",
          "data": {
            "text/plain": [
              "True"
            ]
          },
          "metadata": {},
          "execution_count": 31
        }
      ]
    },
    {
      "cell_type": "markdown",
      "metadata": {
        "id": "hBpjtW7iHhW8"
      },
      "source": [
        "## Negación de un False y doble negación en una comparación de valores\n",
        "\n",
        "Primera condición not(es_cliente):\n",
        "El resultado es False debido a que inicialmente a la variable es_cliente se le asignó el valor False.\n",
        "\n",
        "Segunda condición not(not(edad < 18)):\n",
        "El resultado es True debido a que la variable edad se guardó en memoria con el ejercicio pasado y se quedo igual a 20, este valor hace que la instrucción edad < 18 sea False, al ser negada por primera vez se conviere en True.\n",
        "\n",
        "Decisión del operador and:\n",
        "El resultado es con el operador es False ya que al resolver los parentesis se obtiene False + True, pero debido a que esta operación contiene un not fuera del parentesis, se niega la condición obtenida con and y de False el resultado pasa a True.\n",
        "🖍 ..."
      ]
    },
    {
      "cell_type": "markdown",
      "metadata": {
        "id": "_jKHKuBkbxhX"
      },
      "source": [
        "###Recursos extra para estudiar y ejercios\n"
      ]
    },
    {
      "cell_type": "markdown",
      "metadata": {
        "id": "86XEDrCbdBCr"
      },
      "source": [
        "- Video corto de Coursera: [Tablas de verdad y álgebra booleana](https://www.coursera.org/lecture/programacion-python/tablas-de-verdad-y-algebra-booleana-JJs0E)\n",
        "- Articulo corto de [Tablas de la verdad](https://www.ecured.cu/Tablas_de_la_verdad)\n",
        "- Ejercicios practicos en portal de [Tablas de Verdad](https://www.edu.xunta.gal/espazoAbalar/sites/espazoAbalar/files/datos/1493724904/contido/tablas_de_verdad.html)\n",
        "- Guía de [Ejercicios de Lógica](https://www.fing.edu.uy/tecnoinf/mvd/cursos/mdl1/material/pra/buceo_noct/mdl1-pr-logica.pdf)"
      ]
    }
  ]
}