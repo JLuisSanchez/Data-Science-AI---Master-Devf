{
  "nbformat": 4,
  "nbformat_minor": 0,
  "metadata": {
    "kernelspec": {
      "display_name": "Python 3",
      "language": "python",
      "name": "python3"
    },
    "language_info": {
      "codemirror_mode": {
        "name": "ipython",
        "version": 3
      },
      "file_extension": ".py",
      "mimetype": "text/x-python",
      "name": "python",
      "nbconvert_exporter": "python",
      "pygments_lexer": "ipython3",
      "version": "3.8.5"
    },
    "colab": {
      "name": "JLSG - IntroPython.ipynb",
      "provenance": [],
      "collapsed_sections": []
    }
  },
  "cells": [
    {
      "cell_type": "markdown",
      "metadata": {
        "id": "V7wzI38DKsxk"
      },
      "source": [
        "# Introducción a la programación con Python\n",
        "\n",
        "En este notebook introducimos una cantidad suficiente de Python para poder comenzar a programar por nuestra cuenta y continuar nuestro aprendizaje.\n",
        "\n",
        "El flujo y ejemplos están basados en el tutorial [A Whirlwind Tour of Python](https://jakevdp.github.io/WhirlwindTourOfPython/) de Jake VanderPlas, autor de \"The Python Data Science Handbook\".\n",
        "\n",
        "El contenido está pensado para ser expuesto, modificado y construido durante la clase bajo el método de enseñanza *live-coding*, por lo que se recomienda estudiarlo acompañado del video de la clase.\n",
        "\n",
        "Existen dos versiones, la *bare-bone*, o versión inicial, con un esqueleto del contenido, y la versión final, resultado de la clase."
      ]
    },
    {
      "cell_type": "markdown",
      "metadata": {
        "id": "MWTkfQnqwkHk"
      },
      "source": [
        "# Agenda\n",
        "\n",
        "## 0. Variables y tipos.\n",
        "## 1.  Listas y Diccionarios\n",
        "## 2. Operadores básicos.\n",
        "## 3. Condiciones.\n",
        "## 4. Ciclos.\n",
        "## 5. Funciones.\n",
        "\n"
      ]
    },
    {
      "cell_type": "markdown",
      "metadata": {
        "id": "dQ_qJMnbwObF"
      },
      "source": [
        "## Sintaxis básica en Python\n",
        "### Veamos primero un ejemplo básico de lo que podemos hacer en Python"
      ]
    },
    {
      "cell_type": "markdown",
      "metadata": {
        "id": "NYrGDLV1xMNU"
      },
      "source": [
        "### Primero una suma simple"
      ]
    },
    {
      "cell_type": "code",
      "metadata": {
        "id": "0tJ3OpOlOyT6"
      },
      "source": [
        "x = (1 + 2 + 3 + 4 +                        #aqui el enter no afecta la suma o algo asi\n",
        "    5 + 6 + 7 + 8 + 9)"
      ],
      "execution_count": null,
      "outputs": []
    },
    {
      "cell_type": "markdown",
      "metadata": {
        "id": "Ad61V7uOxQLv"
      },
      "source": [
        "## Ahora una combinación simple de instrucciones"
      ]
    },
    {
      "cell_type": "code",
      "metadata": {
        "id": "Yurd3FA9xbo6",
        "colab": {
          "base_uri": "https://localhost:8080/"
        },
        "outputId": "2f1df667-e703-4714-a018-8154f9434150"
      },
      "source": [
        "# set the midpoint\n",
        "midpoint = 5\n",
        "\n",
        "# make two empty lists\n",
        "lower = []\n",
        "upper = []\n",
        "\n",
        "# split the numbers into lower and upper\n",
        "for i in range(10):\n",
        "    if (i < midpoint):\n",
        "        lower.append(i)\n",
        "    else:\n",
        "        upper.append(i)\n",
        "        \n",
        "print(\"lower:\", lower)\n",
        "print(\"upper:\", upper)"
      ],
      "execution_count": null,
      "outputs": [
        {
          "output_type": "stream",
          "name": "stdout",
          "text": [
            "lower: [0, 1, 2, 3, 4]\n",
            "upper: [5, 6, 7, 8, 9]\n"
          ]
        }
      ]
    },
    {
      "cell_type": "markdown",
      "metadata": {
        "id": "Ud-Em2B6yCpO"
      },
      "source": [
        "## Python es noble con la sintaxis"
      ]
    },
    {
      "cell_type": "code",
      "metadata": {
        "id": "Dh-xMWagQc57",
        "colab": {
          "base_uri": "https://localhost:8080/"
        },
        "outputId": "a60c1a52-6702-4402-9c4b-b3cf6c922d2d"
      },
      "source": [
        "x = 1 +                                 2                           #El espacio en blanco dentro de las líneas no importa\n",
        "x"
      ],
      "execution_count": null,
      "outputs": [
        {
          "output_type": "execute_result",
          "data": {
            "text/plain": [
              "3"
            ]
          },
          "metadata": {},
          "execution_count": 3
        }
      ]
    },
    {
      "cell_type": "markdown",
      "metadata": {
        "id": "asekzt5r0hOa"
      },
      "source": [
        "## Algunas notas de Python\n",
        "- Los comentarios están marcados con #\n",
        "- Fin de línea finaliza una declaración\n",
        "- El punto y coma puede opcionalmente terminar una declaración\n",
        "- Sangría: ¡el espacio en blanco importa!\n",
        "- El espacio en blanco dentro de las líneas no importa\n",
        "- Los paréntesis son para agrupar o llamar"
      ]
    },
    {
      "cell_type": "markdown",
      "metadata": {
        "id": "SN1N1ZNSySOd"
      },
      "source": [
        "## Ahora nuestro primer programita en Python"
      ]
    },
    {
      "cell_type": "code",
      "metadata": {
        "id": "KrgmmPvV7_aP",
        "colab": {
          "base_uri": "https://localhost:8080/"
        },
        "outputId": "eebbffb4-afd1-4ecf-f7b5-c265b300c83e"
      },
      "source": [
        "print(\"Hola, Mundo!\", x)"
      ],
      "execution_count": null,
      "outputs": [
        {
          "output_type": "stream",
          "name": "stdout",
          "text": [
            "Hola, Mundo! 3\n"
          ]
        }
      ]
    },
    {
      "cell_type": "markdown",
      "metadata": {
        "id": "lpenQGogyb6G"
      },
      "source": [
        "## Las listas son de las estructuras de datos mas utilizadas de Python"
      ]
    },
    {
      "cell_type": "code",
      "metadata": {
        "id": "KBzaTB7zRSML",
        "colab": {
          "base_uri": "https://localhost:8080/"
        },
        "outputId": "f53a3624-cc1e-4bbb-ee57-ad26e0a38eae"
      },
      "source": [
        "L = [4, 2, 3, 1]\n",
        "print(L)"
      ],
      "execution_count": null,
      "outputs": [
        {
          "output_type": "stream",
          "name": "stdout",
          "text": [
            "[4, 2, 3, 1]\n"
          ]
        }
      ]
    },
    {
      "cell_type": "markdown",
      "metadata": {
        "id": "6sUCRJXTyqcY"
      },
      "source": [
        "### Hasta la podemos ordenar"
      ]
    },
    {
      "cell_type": "code",
      "metadata": {
        "id": "LKw4-t6ZRYuB",
        "colab": {
          "base_uri": "https://localhost:8080/"
        },
        "outputId": "30803bbe-8089-4e88-85b3-26adf2b02ae4"
      },
      "source": [
        "L.sort()\n",
        "L"
      ],
      "execution_count": null,
      "outputs": [
        {
          "output_type": "execute_result",
          "data": {
            "text/plain": [
              "[1, 2, 3, 4]"
            ]
          },
          "metadata": {},
          "execution_count": 6
        }
      ]
    },
    {
      "cell_type": "markdown",
      "metadata": {
        "id": "5UVwrIGcwTzy"
      },
      "source": [
        "## Variables\n",
        "\n",
        "- Las variables de Python son punteros\n",
        "- Todo es un objeto\n",
        "\n",
        "|Type|\tExample|\tDescription\n",
        "|---|---|---|\n",
        "int\t|x = 1|\tintegers (i.e., whole numbers)\n",
        "float\t|x = 1.0\t|floating-point numbers (i.e., real numbers)\n",
        "complex\t|x = 1 + 2j|\tComplex numbers (i.e., numbers with real and imaginary part)\n",
        "bool\t|x = True|\tBoolean: True/False values\n",
        "str\t|x = 'abc'|\tString: characters or text\n",
        "NoneType|\tx = None|\tSpecial object indicating nulls"
      ]
    },
    {
      "cell_type": "markdown",
      "metadata": {
        "id": "hXJEBJTWy7C_"
      },
      "source": [
        "Las variables son **ubicaciones de memoria reservada** para guardar valores y en Python no se declaran explícitamente.\n",
        "\n",
        "Usamos  el signo igual (=) para crear asignaciones de variables.\n",
        "\n",
        "El operando del lado izquierdo del **signo igual (=) es el nombre de la variable**, y el operando de la derecha es el valor guardado en esa variable."
      ]
    },
    {
      "cell_type": "markdown",
      "metadata": {
        "id": "D4HkIVrSzQ7w"
      },
      "source": [
        "# Definiendo una variable\n",
        "\n",
        "Podemos crear una variable llamada edad y asignarle un valor numérico:\n",
        "\n",
        "**edad = 33**\n",
        "\n",
        "O crear otra variable donde guardamos tu nombre como cadena de caracteres:\n",
        "\n",
        "**nombre = “Ada Lovelace”**\n"
      ]
    },
    {
      "cell_type": "code",
      "metadata": {
        "id": "BMBaPdSV8xc7",
        "colab": {
          "base_uri": "https://localhost:8080/"
        },
        "outputId": "6b9a64c9-acd1-4d02-9f85-514368c7786c"
      },
      "source": [
        "edad = 25\n",
        "print(edad)"
      ],
      "execution_count": null,
      "outputs": [
        {
          "output_type": "stream",
          "name": "stdout",
          "text": [
            "25\n"
          ]
        }
      ]
    },
    {
      "cell_type": "code",
      "metadata": {
        "id": "JQlT4LgPzbgi",
        "colab": {
          "base_uri": "https://localhost:8080/"
        },
        "outputId": "78e22c4c-6d3d-4ffc-8b28-90135930f6d9"
      },
      "source": [
        "nombre = \"José\"\n",
        "print(nombre)"
      ],
      "execution_count": null,
      "outputs": [
        {
          "output_type": "stream",
          "name": "stdout",
          "text": [
            "José\n"
          ]
        }
      ]
    },
    {
      "cell_type": "markdown",
      "metadata": {
        "id": "mtpj5EN2zheO"
      },
      "source": [
        "# Listas y diccionarios"
      ]
    },
    {
      "cell_type": "markdown",
      "metadata": {
        "id": "H_CIjqEqznqT"
      },
      "source": [
        "Una Lista puede guardar todo tipo de variables, y puede contener cuantas variables desees.\n",
        "\n",
        "Los valores guardados en una lista se pueden acceder usando el operador slice ([ ] y [:]) con índices en 0 al inicio de la lista y hasta el final -1.\n",
        "\n",
        "Los diccionarios son similares a las listas, pero funcionan con llaves(claves) y valores en vez de índices."
      ]
    },
    {
      "cell_type": "markdown",
      "metadata": {
        "id": "rju0J4WczqbN"
      },
      "source": [
        "## Declarando una lista\n",
        "\n",
        "Podemos crear una lista y asignarle cualquier tipo de dato como números y cadenas de caracteres:\n",
        "\n",
        "\n",
        "lista = [ 'abcd', 389 , 2.25, 'Willemien', 70.2 ]\n",
        "\n",
        "\n",
        "lista_pequena = [123, 'Will']\n"
      ]
    },
    {
      "cell_type": "code",
      "metadata": {
        "id": "HZz9b10tSJNA",
        "colab": {
          "base_uri": "https://localhost:8080/"
        },
        "outputId": "5ee7baf3-12d5-4ffa-946f-43fdd5a44a55"
      },
      "source": [
        "x = [\"perro\", \"gato\", \"conejo\", \"ratón\"]\n",
        "print(x)\n"
      ],
      "execution_count": null,
      "outputs": [
        {
          "output_type": "stream",
          "name": "stdout",
          "text": [
            "['perro', 'gato', 'conejo', 'ratón']\n"
          ]
        }
      ]
    },
    {
      "cell_type": "code",
      "metadata": {
        "id": "0qG-kBjPSP6m",
        "colab": {
          "base_uri": "https://localhost:8080/"
        },
        "outputId": "3d7689a3-b1ba-4c77-ca50-f6499db58e22"
      },
      "source": [
        "int_numbers = [1,2,3,4,5,6,7,8,9,10]\n",
        "print(int_numbers)"
      ],
      "execution_count": null,
      "outputs": [
        {
          "output_type": "stream",
          "name": "stdout",
          "text": [
            "[1, 2, 3, 4, 5, 6, 7, 8, 9, 10]\n"
          ]
        }
      ]
    },
    {
      "cell_type": "code",
      "source": [
        "float_numbers = [1.22,656.6,90.33,11.84,799.11]\n",
        "print(float_numbers)"
      ],
      "metadata": {
        "id": "Oyf7G6wmAz4e",
        "colab": {
          "base_uri": "https://localhost:8080/"
        },
        "outputId": "34fe3e55-a0c7-4882-bc7e-a025e659294d"
      },
      "execution_count": null,
      "outputs": [
        {
          "output_type": "stream",
          "name": "stdout",
          "text": [
            "[1.22, 656.6, 90.33, 11.84, 799.11]\n"
          ]
        }
      ]
    },
    {
      "cell_type": "markdown",
      "metadata": {
        "id": "WqijJy-4wbzY"
      },
      "source": [
        "# Operadores"
      ]
    },
    {
      "cell_type": "markdown",
      "metadata": {
        "id": "fArm64_B0lCi"
      },
      "source": [
        "# Operadores básicos\n",
        "Como en cualquier lenguaje moderno, podemos hacer operaciones matemáticas como adición, sustracción, multiplicación y división.\n",
        "\n",
        "Los operadores +, -, * y / sirven para manipular números o variables que contengan números y realizar cálculos desde Python.\n",
        "\n",
        "# Usando operadores básicos\n",
        "Podemos crear una variable para guardar el resultado de una suma, multiplicación y división:\n",
        "\n",
        "numero_final = 1 + 2 * 3 / 4 \n",
        "print(numero_final)\n",
        "\n",
        "También podemos hacer adición de cadenas de caracteres:\n",
        "\n",
        "sapere_aude = \"sapere\" + \" \" + \"aude\"\n",
        "print(sapere_aude)\n"
      ]
    },
    {
      "cell_type": "markdown",
      "metadata": {
        "id": "khCfSYGN-QMG"
      },
      "source": [
        "### Operadores aritméticos\n",
        "\n",
        "\n",
        "|Operator\t|Name\t\n",
        "| ----- - | --- \n",
        "a + b\t| Suma\n",
        "a - b\t| Resta\n",
        "a * b\t| Multiplicación\n",
        "a / b\t| Division\t\n",
        "a // b | Division entera\n",
        "a % b | Módulo\t\n",
        "a ** b | Exponenciación\n",
        "-a | Negación\n",
        " +a | Unary \n",
        " @ | Producto de matrices"
      ]
    },
    {
      "cell_type": "code",
      "metadata": {
        "id": "knXxLixZ_ebT",
        "colab": {
          "base_uri": "https://localhost:8080/"
        },
        "outputId": "7e64b6dd-79a3-4f53-fdaa-8c76d7b9106e"
      },
      "source": [
        "#Uso del operador suma con dos variables\n",
        "x = 85\n",
        "y = 33\n",
        "\n",
        "suma = x + y\n",
        "print(suma)"
      ],
      "execution_count": null,
      "outputs": [
        {
          "output_type": "stream",
          "name": "stdout",
          "text": [
            "118\n"
          ]
        }
      ]
    },
    {
      "cell_type": "code",
      "source": [
        "#Uso del operador resta\n",
        "x = 85\n",
        "y = 33\n",
        "\n",
        "resta = x - y\n",
        "print(resta)"
      ],
      "metadata": {
        "colab": {
          "base_uri": "https://localhost:8080/"
        },
        "id": "Jft5YKwW5krI",
        "outputId": "dfe8aa87-5836-48c9-c322-aa39da584f18"
      },
      "execution_count": null,
      "outputs": [
        {
          "output_type": "stream",
          "name": "stdout",
          "text": [
            "52\n"
          ]
        }
      ]
    },
    {
      "cell_type": "code",
      "source": [
        "#Uso del operador resta\n",
        "x = 8\n",
        "y = 3\n",
        "\n",
        "multiplicacion = x * y\n",
        "print(multiplicacion)"
      ],
      "metadata": {
        "id": "PQhk0hTk5ky_",
        "colab": {
          "base_uri": "https://localhost:8080/"
        },
        "outputId": "717d37e4-b33f-48a4-c282-a45737110d0b"
      },
      "execution_count": null,
      "outputs": [
        {
          "output_type": "stream",
          "name": "stdout",
          "text": [
            "24\n"
          ]
        }
      ]
    },
    {
      "cell_type": "code",
      "metadata": {
        "id": "_AMAsKwLYo2J",
        "colab": {
          "base_uri": "https://localhost:8080/"
        },
        "outputId": "75f0040c-26a0-44b9-d944-1e72e89781d7"
      },
      "source": [
        "#Uso del operador división (Decimal)\n",
        "x = 9\n",
        "y = 3\n",
        "\n",
        "division = x / y\n",
        "print(division)"
      ],
      "execution_count": null,
      "outputs": [
        {
          "output_type": "stream",
          "name": "stdout",
          "text": [
            "3.0\n"
          ]
        }
      ]
    },
    {
      "cell_type": "code",
      "source": [
        "#Uso del operador división (Entero)\n",
        "x = 95\n",
        "y = 5\n",
        "\n",
        "division_int = x // y\n",
        "print(division_int)"
      ],
      "metadata": {
        "id": "OOxYHqq_A1i_",
        "colab": {
          "base_uri": "https://localhost:8080/"
        },
        "outputId": "239d0885-b8ad-4487-d820-796364dc110d"
      },
      "execution_count": null,
      "outputs": [
        {
          "output_type": "stream",
          "name": "stdout",
          "text": [
            "19\n"
          ]
        }
      ]
    },
    {
      "cell_type": "code",
      "source": [
        "#Uso del operador módulo\n",
        "x = 90\n",
        "y = 4\n",
        "\n",
        "op_modulo = x % y\n",
        "print(op_modulo)"
      ],
      "metadata": {
        "colab": {
          "base_uri": "https://localhost:8080/"
        },
        "id": "vpor2PbNUt83",
        "outputId": "6d6d30d2-6a84-4db2-9154-c054222b49bf"
      },
      "execution_count": null,
      "outputs": [
        {
          "output_type": "stream",
          "name": "stdout",
          "text": [
            "2\n"
          ]
        }
      ]
    },
    {
      "cell_type": "code",
      "source": [
        "#Uso de exponencial\n",
        "x = 10\n",
        "y = 4\n",
        "\n",
        "op_exp = x ** y\n",
        "print(op_exp)"
      ],
      "metadata": {
        "colab": {
          "base_uri": "https://localhost:8080/"
        },
        "id": "2Eaau1WJUt6f",
        "outputId": "7cf46ba5-f419-4437-ae29-3fd44207b86c"
      },
      "execution_count": null,
      "outputs": [
        {
          "output_type": "stream",
          "name": "stdout",
          "text": [
            "10000\n"
          ]
        }
      ]
    },
    {
      "cell_type": "code",
      "source": [
        "#Uso de negación\n",
        "x = True\n",
        "\n",
        "op_neg = not x\n",
        "print(op_neg)"
      ],
      "metadata": {
        "colab": {
          "base_uri": "https://localhost:8080/"
        },
        "id": "aSnpkUssVNzm",
        "outputId": "4a9c8147-4d4e-45a6-db39-9c21ed81c17b"
      },
      "execution_count": null,
      "outputs": [
        {
          "output_type": "stream",
          "name": "stdout",
          "text": [
            "False\n"
          ]
        }
      ]
    },
    {
      "cell_type": "markdown",
      "metadata": {
        "id": "7uLXONgE-Uxf"
      },
      "source": [
        "### Operaciones bit a bit\n",
        "\n",
        "|Operator\t|Name\t\n",
        "| --- | --- |\n",
        "|a & b\t|Bitwise AND\t\n",
        "|a \\| b\t|Bitwise OR\t\n",
        "|a ^ b\t|Bitwise XOR\t\n",
        "|a << b\t|Bit shift left\t\n",
        "|a >> b\t|Bit shift right\t\n",
        "|~a\t|Bitwise NOT\t\n"
      ]
    },
    {
      "cell_type": "code",
      "source": [
        "#Uso del operador AND\n",
        "b = 2\n",
        "a = 10\n",
        "print(b & a)"
      ],
      "metadata": {
        "colab": {
          "base_uri": "https://localhost:8080/"
        },
        "id": "Rzr9I6Y6LCNQ",
        "outputId": "d09b6804-9421-44bd-ed0d-e6a1384b7e94"
      },
      "execution_count": null,
      "outputs": [
        {
          "output_type": "stream",
          "name": "stdout",
          "text": [
            "2\n"
          ]
        }
      ]
    },
    {
      "cell_type": "code",
      "metadata": {
        "id": "wCVc0HalZK6w"
      },
      "source": [
        ""
      ],
      "execution_count": null,
      "outputs": []
    },
    {
      "cell_type": "markdown",
      "metadata": {
        "id": "Pjx_unYGAXT0"
      },
      "source": [
        "### Operaciones de asignación\n",
        "\n",
        "| | | | |\n",
        "| --- | --- | --- | --- |\n",
        "|a += b|\ta -= b|\ta *= b\t|a /= b|\n",
        "|a //= b|\ta %= b|\ta **= b|\ta &= b|\n",
        "|a \\|= b|\ta ^= b|\ta <<= b\t|a >>= b|"
      ]
    },
    {
      "cell_type": "code",
      "metadata": {
        "id": "SfC5p3DdZZ_v",
        "colab": {
          "base_uri": "https://localhost:8080/"
        },
        "outputId": "1e99e7a5-8379-4971-b09a-dfcf6b0e0f4d"
      },
      "source": [
        "#Asignar el valor con += (Aumentar el valor de b a x y asignarlo a b)\n",
        "x = 1\n",
        "b = 2\n",
        "\n",
        "#Se asigna el valor de b a la variable x\n",
        "x += b\n",
        "print(x)"
      ],
      "execution_count": null,
      "outputs": [
        {
          "output_type": "stream",
          "name": "stdout",
          "text": [
            "3\n"
          ]
        }
      ]
    },
    {
      "cell_type": "code",
      "metadata": {
        "id": "xn8It8mCZc6T",
        "colab": {
          "base_uri": "https://localhost:8080/"
        },
        "outputId": "a9176087-abad-43ec-cd1d-c068e209ddc0"
      },
      "source": [
        "#Asignar el valor con -= (Quitar el valor de b a x y asignarlo a x)\n",
        "x = 6\n",
        "b = 1\n",
        "\n",
        "x -= b\n",
        "print(x)"
      ],
      "execution_count": null,
      "outputs": [
        {
          "output_type": "stream",
          "name": "stdout",
          "text": [
            "5\n"
          ]
        }
      ]
    },
    {
      "cell_type": "code",
      "source": [
        "#Asignar el valor con *= (multiplicar el valor de b a x y asignarlo a x)\n",
        "x = 10\n",
        "b = 3\n",
        "\n",
        "x *= b\n",
        "print(x)\n"
      ],
      "metadata": {
        "colab": {
          "base_uri": "https://localhost:8080/"
        },
        "id": "dK_PaIj_CEFS",
        "outputId": "a021b130-73b5-45c8-be17-e02ab7de8bc9"
      },
      "execution_count": null,
      "outputs": [
        {
          "output_type": "stream",
          "name": "stdout",
          "text": [
            "30\n"
          ]
        }
      ]
    },
    {
      "cell_type": "code",
      "source": [
        "#Asignar el valor con /= (divide a x entre el valor de b y asigna el resultado a x) - Resultado Decimal\n",
        "x = 10\n",
        "b = 3\n",
        "\n",
        "x /= b\n",
        "print(x)"
      ],
      "metadata": {
        "id": "_cBCmhMqA2HQ",
        "colab": {
          "base_uri": "https://localhost:8080/"
        },
        "outputId": "d1480b98-818f-4c1e-c9ce-f06985b8ace0"
      },
      "execution_count": null,
      "outputs": [
        {
          "output_type": "stream",
          "name": "stdout",
          "text": [
            "3.3333333333333335\n"
          ]
        }
      ]
    },
    {
      "cell_type": "code",
      "source": [
        "#Asignar el valor con a //= b (divide a x entre el valor de b y asigna el resultado a x) - Resultado entero\n",
        "x = 10\n",
        "b = 3\n",
        "\n",
        "x //= b\n",
        "print(x)"
      ],
      "metadata": {
        "colab": {
          "base_uri": "https://localhost:8080/"
        },
        "id": "ty687syhDOEQ",
        "outputId": "8dfdd7ec-86b2-4d05-82e4-7feae9518c2c"
      },
      "execution_count": null,
      "outputs": [
        {
          "output_type": "stream",
          "name": "stdout",
          "text": [
            "3\n"
          ]
        }
      ]
    },
    {
      "cell_type": "code",
      "source": [
        "#Asignar el valor con a %= b (asigna el residuo de la división entre x y b a x)\n",
        "x = 20\n",
        "b = 8\n",
        "\n",
        "x %= b\n",
        "print(x)"
      ],
      "metadata": {
        "colab": {
          "base_uri": "https://localhost:8080/"
        },
        "id": "Pc7n9nlPDoSo",
        "outputId": "9aa74def-d696-417e-a98e-4587d5bc308e"
      },
      "execution_count": null,
      "outputs": [
        {
          "output_type": "stream",
          "name": "stdout",
          "text": [
            "4\n"
          ]
        }
      ]
    },
    {
      "cell_type": "code",
      "source": [
        "#Asignar el valor con a **= b (asigna a x el valor de la operación de x elevado a la potencia b)\n",
        "x = 2\n",
        "b = 3\n",
        "\n",
        "x **= b\n",
        "print(x)"
      ],
      "metadata": {
        "colab": {
          "base_uri": "https://localhost:8080/"
        },
        "id": "t-gIF5BpEVwY",
        "outputId": "9c6ca9ae-a0b2-4f33-b013-2e0556f4e3bb"
      },
      "execution_count": null,
      "outputs": [
        {
          "output_type": "stream",
          "name": "stdout",
          "text": [
            "8\n"
          ]
        }
      ]
    },
    {
      "cell_type": "code",
      "source": [
        "#Asignar el valor con a &= b ()\n",
        "x = 10\n",
        "b = 9\n",
        "\n",
        "x &= b\n",
        "print(x)"
      ],
      "metadata": {
        "colab": {
          "base_uri": "https://localhost:8080/"
        },
        "id": "eerXT7H6E4YA",
        "outputId": "7d3e493b-09a1-44b8-b8b3-1617ae119746"
      },
      "execution_count": null,
      "outputs": [
        {
          "output_type": "stream",
          "name": "stdout",
          "text": [
            "8\n"
          ]
        }
      ]
    },
    {
      "cell_type": "markdown",
      "metadata": {
        "id": "-7NF3WOxA1_U"
      },
      "source": [
        "### Operadores de comparación\n",
        "\n",
        "| | |\n",
        "|---|---|\n",
        "|a == b| a != b|\n",
        "|a < b  | a > b\n",
        "|a <= b |\ta >= b"
      ]
    },
    {
      "cell_type": "code",
      "metadata": {
        "id": "1G5pON9oZps5",
        "colab": {
          "base_uri": "https://localhost:8080/"
        },
        "outputId": "a6f55cba-7b43-4fb7-bce4-0a8cd61026c3"
      },
      "source": [
        "#Uso del operador de comparación a==b\n",
        "a = 10\n",
        "b = 20\n",
        "\n",
        "print(a==b)"
      ],
      "execution_count": null,
      "outputs": [
        {
          "output_type": "stream",
          "name": "stdout",
          "text": [
            "False\n"
          ]
        }
      ]
    },
    {
      "cell_type": "code",
      "metadata": {
        "id": "3cjK2LH5Z01L",
        "colab": {
          "base_uri": "https://localhost:8080/"
        },
        "outputId": "06ab7826-028a-4fac-e9f4-b94b401078c0"
      },
      "source": [
        "#Uso del operador de comparación a!=b\n",
        "a = 10\n",
        "b = 20\n",
        "\n",
        "print(a!=b)"
      ],
      "execution_count": null,
      "outputs": [
        {
          "output_type": "stream",
          "name": "stdout",
          "text": [
            "True\n"
          ]
        }
      ]
    },
    {
      "cell_type": "code",
      "source": [
        "#Uso del operador de comparación a < b\n",
        "a = 10\n",
        "b = 20\n",
        "\n",
        "print(a<b)"
      ],
      "metadata": {
        "id": "YZ8cJJ-NA2qk",
        "colab": {
          "base_uri": "https://localhost:8080/"
        },
        "outputId": "6f8ac9e2-5454-4658-ec87-efaaa4fab6f3"
      },
      "execution_count": null,
      "outputs": [
        {
          "output_type": "stream",
          "name": "stdout",
          "text": [
            "True\n"
          ]
        }
      ]
    },
    {
      "cell_type": "code",
      "source": [
        "#Uso del operador de comparación a > b\n",
        "a = 10\n",
        "b = 20\n",
        "\n",
        "print(a>b)"
      ],
      "metadata": {
        "colab": {
          "base_uri": "https://localhost:8080/"
        },
        "id": "F00UJnFJMNpw",
        "outputId": "e209db7b-912b-48a3-87d4-bbf411b55854"
      },
      "execution_count": null,
      "outputs": [
        {
          "output_type": "stream",
          "name": "stdout",
          "text": [
            "False\n"
          ]
        }
      ]
    },
    {
      "cell_type": "code",
      "source": [
        "#Uso del operador de comparación a <= b\n",
        "a = 20\n",
        "b = 20\n",
        "\n",
        "print(a<=b)"
      ],
      "metadata": {
        "colab": {
          "base_uri": "https://localhost:8080/"
        },
        "id": "dvsKaCfgMP23",
        "outputId": "f895e595-32c5-4175-9c5f-3ff40b55a84c"
      },
      "execution_count": null,
      "outputs": [
        {
          "output_type": "stream",
          "name": "stdout",
          "text": [
            "True\n"
          ]
        }
      ]
    },
    {
      "cell_type": "code",
      "source": [
        "#Uso del operador de comparación a >= b\n",
        "a = 20\n",
        "b = 20\n",
        "\n",
        "print(a>=b)"
      ],
      "metadata": {
        "colab": {
          "base_uri": "https://localhost:8080/"
        },
        "id": "sHCjXlICMXFY",
        "outputId": "3ae7c490-25ef-49d4-a437-ce84304ded3a"
      },
      "execution_count": null,
      "outputs": [
        {
          "output_type": "stream",
          "name": "stdout",
          "text": [
            "True\n"
          ]
        }
      ]
    },
    {
      "cell_type": "markdown",
      "metadata": {
        "id": "26BWEl-LBlRB"
      },
      "source": [
        "### Operaciones Booleanas\n",
        "\n",
        "| | | |\n",
        "| --- | --- | --- |\n",
        "|and | or | not|"
      ]
    },
    {
      "cell_type": "code",
      "metadata": {
        "id": "t4C1ZPDMaG07",
        "colab": {
          "base_uri": "https://localhost:8080/"
        },
        "outputId": "dd2b7444-c5bf-4e1f-9bfb-ec841a1f568f"
      },
      "source": [
        "#Uso de la operación Booleana and\n",
        "a = 40\n",
        "b = 80\n",
        "\n",
        "print(a < b and a != b)"
      ],
      "execution_count": null,
      "outputs": [
        {
          "output_type": "stream",
          "name": "stdout",
          "text": [
            "True\n"
          ]
        }
      ]
    },
    {
      "cell_type": "code",
      "metadata": {
        "id": "Hk1-lQAeaRpK",
        "colab": {
          "base_uri": "https://localhost:8080/"
        },
        "outputId": "a1d1ef8d-2e99-4d23-f72d-aa972fa69474"
      },
      "source": [
        "#Uso de la operación Booleana or\n",
        "a = 80\n",
        "b = 80\n",
        "\n",
        "print(a == b or a != b)"
      ],
      "execution_count": null,
      "outputs": [
        {
          "output_type": "stream",
          "name": "stdout",
          "text": [
            "True\n"
          ]
        }
      ]
    },
    {
      "cell_type": "code",
      "source": [
        "#Uso de la operación Booleana not\n",
        "a = 40\n",
        "b = 80\n",
        "\n",
        "print(not a == b)"
      ],
      "metadata": {
        "id": "i2os8jEtA3NZ",
        "colab": {
          "base_uri": "https://localhost:8080/"
        },
        "outputId": "a7321b40-9a1a-43cb-b1bb-f6e7baa2e3ae"
      },
      "execution_count": null,
      "outputs": [
        {
          "output_type": "stream",
          "name": "stdout",
          "text": [
            "True\n"
          ]
        }
      ]
    },
    {
      "cell_type": "markdown",
      "metadata": {
        "id": "iQV4tGokCgOJ"
      },
      "source": [
        "### Identity and Membership Operators\n",
        "\n",
        "> Bloque con sangría\n",
        "\n",
        "\n",
        "\n",
        "| | |\n",
        "| - | -|\n",
        "|a is b|\tTrue if a and b are identical objects\n",
        "a is not b|\tTrue if a and b are not identical objects\n",
        "a in b |\tTrue if a is a member of b\n",
        "a not in b\t|True if a is not a member of b"
      ]
    },
    {
      "cell_type": "code",
      "metadata": {
        "id": "i6oaKyE2aanR",
        "colab": {
          "base_uri": "https://localhost:8080/"
        },
        "outputId": "5d0df745-ef50-4742-f6b5-a6b3f79ea5ac"
      },
      "source": [
        "#Uso del operador de identidad a is b (comparación de objetos idénticos)\n",
        "a = \"perro\"\n",
        "b = \"gato\"\n",
        "\n",
        "print(\"Si se compara la igualdad entre la palabra perro y gato con is, se obtiene un valor booleano:\", a is b)\n",
        "\n",
        "a = 1\n",
        "b = 1\n",
        "\n",
        "print(\"Si se compara la igualdad entre la variable a y b con is, se obtiene un valor booleano:\", a is b)"
      ],
      "execution_count": null,
      "outputs": [
        {
          "output_type": "stream",
          "name": "stdout",
          "text": [
            "Si se compara la igualdad entre la palabra perro y gato con is, se obtiene un valor booleano: False\n",
            "Si se compara la igualdad entre la variable a y b con is, se obtiene un valor booleano: True\n"
          ]
        }
      ]
    },
    {
      "cell_type": "code",
      "metadata": {
        "id": "Zk0Lri6CajcW",
        "colab": {
          "base_uri": "https://localhost:8080/"
        },
        "outputId": "b730356a-a361-431d-88fc-cc96c748db3d"
      },
      "source": [
        "#Uso del operador is not (para comparar objetos que no son identicos)\n",
        "a = \"perro\"\n",
        "b = \"gato\"\n",
        "\n",
        "print(\"Si se compara la igualdad entre la palabra perro y gato con is not, se obtiene un valor booleano:\", a is not b)"
      ],
      "execution_count": null,
      "outputs": [
        {
          "output_type": "stream",
          "name": "stdout",
          "text": [
            "Si se compara la igualdad entre la palabra perro y gato con is, se obtiene un valor booleano: True\n"
          ]
        }
      ]
    },
    {
      "cell_type": "code",
      "metadata": {
        "id": "KTfHicBJamSL",
        "colab": {
          "base_uri": "https://localhost:8080/"
        },
        "outputId": "15aa1d09-747d-4a06-a561-7e0363997b29"
      },
      "source": [
        "#Uso del operador in (para preguntar si una propiedad de una variable se encuentra en otra variable)\n",
        "a = \"perro y gato\"\n",
        "b = \"gato\"\n",
        "\n",
        "print(\"Si se quiere saber si la palabra gato está dentro del objeto a, se utiliza is y se obtiene un valor booleano:\", b in a)"
      ],
      "execution_count": null,
      "outputs": [
        {
          "output_type": "stream",
          "name": "stdout",
          "text": [
            "Si se compara la igualdad entre la palabra perro y gato con is, se obtiene un valor booleano: True\n"
          ]
        }
      ]
    },
    {
      "cell_type": "code",
      "source": [
        "#Uso del operador not in (para negar si una propiedad de una variable se encuentra en otra variable)\n",
        "a = \"perro y gato\"\n",
        "b = \"gato\"\n",
        "\n",
        "print(\"Si se quiere saber si la palabra gato está dentro del objeto a (negando el valor booleano), se utiliza not is y se obtiene un valor booleano:\", b not in a)"
      ],
      "metadata": {
        "colab": {
          "base_uri": "https://localhost:8080/"
        },
        "id": "ozP_LdYnOvbP",
        "outputId": "e0d9680c-d807-485b-948d-d2bb39baa6cb"
      },
      "execution_count": null,
      "outputs": [
        {
          "output_type": "stream",
          "name": "stdout",
          "text": [
            "Si se quiere saber si la palabra gato está dentro del objeto a, utilizando is se obtiene un valor booleano: False\n"
          ]
        }
      ]
    },
    {
      "cell_type": "markdown",
      "metadata": {
        "id": "60K_ktBRwshv"
      },
      "source": [
        "## Estructuras de datos incorporadas\n",
        "\n",
        "|Type Name| Example|\tDescription|\n",
        "|-|-|-|\n",
        "list|\t[1, 2, 3]\t|Ordered collection\n",
        "tuple|\t(1, 2, 3)|\tImmutable ordered collection\n",
        "dict|\t{'a':1, 'b':2, 'c':3}|\tUnordered (key,value) mapping (insertion ordered 3.7+)\n",
        "set\t|{1, 2, 3}|\tUnordered collection of unique values"
      ]
    },
    {
      "cell_type": "code",
      "metadata": {
        "id": "6K5R3Y4uce19",
        "colab": {
          "base_uri": "https://localhost:8080/"
        },
        "outputId": "41d337e4-4f69-457b-e07f-878e309a01eb"
      },
      "source": [
        "#Definición de una lista de frutas\n",
        "frutas = [\"Mango\", \"Manzana\", \"Platano\", \"Sandia\", \"Kiwi\"]\n",
        "print(frutas)"
      ],
      "execution_count": null,
      "outputs": [
        {
          "output_type": "stream",
          "name": "stdout",
          "text": [
            "['Mango', 'Manzana', 'Platano', 'Sandia', 'Kiwi']\n"
          ]
        }
      ]
    },
    {
      "cell_type": "code",
      "metadata": {
        "id": "fU80msD2cf0f",
        "colab": {
          "base_uri": "https://localhost:8080/"
        },
        "outputId": "f1f89c67-47f1-4148-af68-10becdf48910"
      },
      "source": [
        "#Definición de una tupla con calificaciones de una escuela (Inmutable)\n",
        "calificaciones = (10, 8, 6, 10, 10, 5, 7)\n",
        "print(calificaciones)"
      ],
      "execution_count": null,
      "outputs": [
        {
          "output_type": "stream",
          "name": "stdout",
          "text": [
            "(10, 8, 6, 10, 10, 5, 7)\n"
          ]
        }
      ]
    },
    {
      "cell_type": "code",
      "metadata": {
        "id": "7_agAnsZcmEa",
        "colab": {
          "base_uri": "https://localhost:8080/"
        },
        "outputId": "305c8892-fda8-41d6-a64e-c8c2c8a8b38b"
      },
      "source": [
        "#Definición de un diccionario sobre animales\n",
        "animales = {\"Acuaticos\":[\"Pez\",\"Tiburón\", \"Medusa\"],\"Terrestes\":[\"Elefante\",\"Tigre\",\"Jirafa\"],\"Domesticos\":[\"Perro\",\"Gato\",\"Anaconda\"]}\n",
        "\n",
        "print(animales[\"Acuaticos\"])\n",
        "print(animales[\"Domesticos\"])"
      ],
      "execution_count": null,
      "outputs": [
        {
          "output_type": "stream",
          "name": "stdout",
          "text": [
            "['Pez', 'Tiburón', 'Medusa']\n",
            "['Perro', 'Gato', 'Anaconda']\n"
          ]
        }
      ]
    },
    {
      "cell_type": "code",
      "metadata": {
        "id": "FaMdhj6ecp9Q",
        "colab": {
          "base_uri": "https://localhost:8080/"
        },
        "outputId": "accb3f9e-5070-4ead-da92-8001d6435d95"
      },
      "source": [
        "#Definición de un set sobre marcas de computadoras\n",
        "marcas_computadoras = {\"HP\",\"Lenovo\",\"Sony\",\"Alienware\",\"Toshiba\",\"Microsoft\"}\n",
        "print(marcas_computadoras)"
      ],
      "execution_count": null,
      "outputs": [
        {
          "output_type": "stream",
          "name": "stdout",
          "text": [
            "{'Sony', 'Lenovo', 'Toshiba', 'Alienware', 'HP', 'Microsoft'}\n"
          ]
        }
      ]
    },
    {
      "cell_type": "markdown",
      "metadata": {
        "id": "MvDKNgH8IeHq"
      },
      "source": [
        "#### List comprehension"
      ]
    },
    {
      "cell_type": "markdown",
      "metadata": {
        "id": "VkaqP4srrGQH"
      },
      "source": [
        "Métodos útiles para listas:\n",
        "- append\n",
        "- count\n",
        "- index\n",
        "- sort\n",
        "- reverse"
      ]
    },
    {
      "cell_type": "markdown",
      "metadata": {
        "id": "_eS-uI48OXig"
      },
      "source": [
        "### Métodos con listas"
      ]
    },
    {
      "cell_type": "code",
      "metadata": {
        "id": "5p_tamwtc2Tv",
        "colab": {
          "base_uri": "https://localhost:8080/"
        },
        "outputId": "acf5ae1e-f0bb-4714-fe19-35a9617c15c9"
      },
      "source": [
        "#Definición de una lista y uso del método append para añadir un nuevo valor\n",
        "colores = [\"Morado\", \"Azul\", \"Blanco\", \"Rojo\", \"Lila\"]\n",
        "print(colores)\n",
        "\n",
        "colores.append(\"Rosa\")\n",
        "print(colores)"
      ],
      "execution_count": null,
      "outputs": [
        {
          "output_type": "stream",
          "name": "stdout",
          "text": [
            "['Morado', 'Azul', 'Blanco', 'Rojo', 'Lila']\n",
            "['Morado', 'Azul', 'Blanco', 'Rojo', 'Lila', 'Rosa']\n"
          ]
        }
      ]
    },
    {
      "cell_type": "code",
      "metadata": {
        "id": "Bk56eOzRc7Uf",
        "colab": {
          "base_uri": "https://localhost:8080/"
        },
        "outputId": "38f55e91-ec88-4a49-f91e-538d11f494c3"
      },
      "source": [
        "#Definición de una lista y uso del método count para contar el número de veces que aparece determinado objeto en una lista.\n",
        "colores = [\"Rojo\", \"Morado\", \"Azul\", \"Blanco\", \"Rojo\", \"Lila\", \"Rojo\"]\n",
        "print(colores)\n",
        "\n",
        "colores.count(\"Rojo\")"
      ],
      "execution_count": null,
      "outputs": [
        {
          "output_type": "stream",
          "name": "stdout",
          "text": [
            "['Rojo', 'Morado', 'Azul', 'Blanco', 'Rojo', 'Lila', 'Rojo']\n"
          ]
        },
        {
          "output_type": "execute_result",
          "data": {
            "text/plain": [
              "3"
            ]
          },
          "metadata": {},
          "execution_count": 60
        }
      ]
    },
    {
      "cell_type": "code",
      "metadata": {
        "id": "c_W0cPUPdIZm",
        "colab": {
          "base_uri": "https://localhost:8080/"
        },
        "outputId": "665bdc8a-8e0e-4285-c352-8e3b5256db79"
      },
      "source": [
        "#Definición de una lista y uso del método index para conocer la posición de un objeto en una lista.\n",
        "colores = [\"Rojo\", \"Morado\", \"Azul\", \"Blanco\", \"Rojo\", \"Lila\", \"Rojo\"]\n",
        "print(colores)\n",
        "\n",
        "colores.index(\"Lila\")"
      ],
      "execution_count": null,
      "outputs": [
        {
          "output_type": "stream",
          "name": "stdout",
          "text": [
            "['Rojo', 'Morado', 'Azul', 'Blanco', 'Rojo', 'Lila', 'Rojo']\n"
          ]
        },
        {
          "output_type": "execute_result",
          "data": {
            "text/plain": [
              "5"
            ]
          },
          "metadata": {},
          "execution_count": 3
        }
      ]
    },
    {
      "cell_type": "code",
      "metadata": {
        "id": "8yt1X9cRdT24",
        "colab": {
          "base_uri": "https://localhost:8080/"
        },
        "outputId": "bbd7c3dc-b074-41af-979a-c6dcea247788"
      },
      "source": [
        "#Definición de una lista y uso del método sort para ordenarla.\n",
        "numeros = [10,6,8,2,1,3,9]\n",
        "\n",
        "numeros.sort()\n",
        "\n",
        "print(numeros)"
      ],
      "execution_count": null,
      "outputs": [
        {
          "output_type": "stream",
          "name": "stdout",
          "text": [
            "[1, 2, 3, 6, 8, 9, 10]\n"
          ]
        }
      ]
    },
    {
      "cell_type": "code",
      "metadata": {
        "id": "sqIuJ4u4djzJ",
        "colab": {
          "base_uri": "https://localhost:8080/"
        },
        "outputId": "5aae77d3-3d57-43b2-b6f4-0c5bcbd9c04d"
      },
      "source": [
        "#Definición de una lista y uso del método reverse para ordenarla de manera inversa.\n",
        "numeros = [1,9,8,10]\n",
        "\n",
        "numeros.reverse()\n",
        "\n",
        "print(numeros)"
      ],
      "execution_count": null,
      "outputs": [
        {
          "output_type": "stream",
          "name": "stdout",
          "text": [
            "[10, 8, 9, 1]\n"
          ]
        }
      ]
    },
    {
      "cell_type": "markdown",
      "metadata": {
        "id": "sT48IcS3OERZ"
      },
      "source": [
        "### Diccionarios"
      ]
    },
    {
      "cell_type": "code",
      "metadata": {
        "id": "srUvzeH6dtXx",
        "colab": {
          "base_uri": "https://localhost:8080/"
        },
        "outputId": "4c664f68-0b82-4c07-f6e2-9e8350a443c3"
      },
      "source": [
        "# Definición de un diccionario sobre animales\n",
        "# key: \"peces\", \"perros\", \"reptiles\"\n",
        "\n",
        "animales = {\"peces\" : [\"Gupi\", \"Charal\", \"Espada\", \"Mickey\", \"Carpa\"], \"perros\" : [\"San Bernardo\", \"Pastor Alemán\", \"Pastor Inglés\", \"Chihuahua\", \"Maltes\"],\n",
        "            \"reptiles\" : [\"Cocodrilo\", \"Iguana\", \"Camaleón\"]}\n",
        "\n",
        "print(animales[\"peces\"])\n",
        "\n",
        "type(animales)\n"
      ],
      "execution_count": null,
      "outputs": [
        {
          "output_type": "stream",
          "name": "stdout",
          "text": [
            "['Gupi', 'Charal', 'Espada', 'Mickey', 'Carpa']\n"
          ]
        },
        {
          "output_type": "execute_result",
          "data": {
            "text/plain": [
              "dict"
            ]
          },
          "metadata": {},
          "execution_count": 21
        }
      ]
    },
    {
      "cell_type": "markdown",
      "metadata": {
        "id": "RUWGpKHSOJhB"
      },
      "source": [
        "### Conjuntos (Sets)"
      ]
    },
    {
      "cell_type": "code",
      "metadata": {
        "id": "J1ZUc07DecK1",
        "colab": {
          "base_uri": "https://localhost:8080/"
        },
        "outputId": "cab1214a-e60d-420b-c717-97f60c273e86"
      },
      "source": [
        "#Definición de un DataSet\n",
        "frutas = {\"melón\", \"sandía\", \"mango\", \"kiwi\"}\n",
        "\n",
        "type(frutas)"
      ],
      "execution_count": null,
      "outputs": [
        {
          "output_type": "execute_result",
          "data": {
            "text/plain": [
              "set"
            ]
          },
          "metadata": {},
          "execution_count": 27
        }
      ]
    },
    {
      "cell_type": "markdown",
      "metadata": {
        "id": "Fu-9K1Xcwyra"
      },
      "source": [
        "## Flujo de control"
      ]
    },
    {
      "cell_type": "markdown",
      "metadata": {
        "id": "t_8nzXjT1Jvf"
      },
      "source": [
        "Python soporta las condiciones lógicas comunes en matemáticas:\n",
        "\n",
        "Igualdad: \t\t\t\t\tmanzana == banana\n",
        "\n",
        "Desigualdad: \t\t\t\tmanzana != banana\n",
        "\n",
        "Menor que: \t\t\t\t\tmanzana < banana\n",
        "\n",
        "Menor o igual a que: \t\tmanzana <= banana\n",
        "\n",
        "Mayor que: \t\t\t\t\tmanzana > banana\n",
        "\n",
        "Mayor o igual que: \t\t\tmanzana >= banana"
      ]
    },
    {
      "cell_type": "markdown",
      "metadata": {
        "id": "UvvMSfrC1Z25"
      },
      "source": [
        "Esas condicionales se pueden utilizar de distintas maneras, de manera muy frecuente en las sentencias if y en los ciclos.\n",
        "\n",
        "Python depende de la identación para definir la ejecución de una sentencia condicional como if. Otros lenguajes de programación utilizan las llaves (“{“ y ”}”, respectivamente) para este propósito."
      ]
    },
    {
      "cell_type": "markdown",
      "metadata": {
        "id": "_61maWoEOceN"
      },
      "source": [
        "### Conditional Statements: if-elif-else"
      ]
    },
    {
      "cell_type": "markdown",
      "metadata": {
        "id": "d5VAzApa3ahN"
      },
      "source": [
        "Podemos hace un condicionamiento doble con if y else, elif de la siguiente manera:\n",
        "a = 200\n",
        "b = 33\n",
        "if b > a:\n",
        "   > print(\"b es más grande que a\")\n",
        "\n",
        "elif b=a:\n",
        "   > print(“b es exactamente igual a a”)\n",
        "   \n",
        "else:\n",
        "   > print(\"b no es más grande que a\")\n",
        "\n",
        "O un condicionamiento simple en una sóla línea:\n",
        "\n",
        "if a > b: print(\"a es mayor que b\")\n"
      ]
    },
    {
      "cell_type": "code",
      "metadata": {
        "id": "yu-AZiO_lMu0",
        "colab": {
          "base_uri": "https://localhost:8080/"
        },
        "outputId": "f26bd6e9-c6be-4572-e562-ea31519766aa"
      },
      "source": [
        "# Definición de una condicional para realizar un control de temperatura\n",
        "temperatura = input(\"Introduce tu temperatura actual en grados centigrados: \")\n",
        "temp_entero = int(temperatura)\n",
        "\n",
        "if temp_entero < 35:\n",
        "  print(\"Tu temperatura es baja, podrías tener hipotermia\")\n",
        "elif temp_entero > 37:\n",
        "  print(\"Tu temperatura es alta, podrías tener fiebre\")\n",
        "else:\n",
        "  print(\"Tu temperatura es normal, tranquilo\")"
      ],
      "execution_count": null,
      "outputs": [
        {
          "output_type": "stream",
          "name": "stdout",
          "text": [
            "Introduce tu temperatura actual en grados centigrados: 0\n",
            "Tu temperatura es baja, podrías tener hipotermia\n"
          ]
        }
      ]
    },
    {
      "cell_type": "markdown",
      "metadata": {
        "id": "t527s_QS4FDg"
      },
      "source": [
        "# Condicionales: and y or\n",
        "Los operadores booleanos and y or permiten expresiones booleanas complejas como:"
      ]
    },
    {
      "cell_type": "code",
      "metadata": {
        "id": "A6EO_GuZ4Lbj",
        "colab": {
          "base_uri": "https://localhost:8080/"
        },
        "outputId": "ef4a43da-e932-44c7-95a6-d262a4540f75"
      },
      "source": [
        "# Definición de una condicional para realizar un control de temperatura con uso de booleano and\n",
        "temperatura = input(\"Introduce tu temperatura actual en grados centigrados: \")\n",
        "calor = input(\"¿Hace calor en donde te encuentras? (SI / NO) \")\n",
        "temp_entero = int(temperatura)\n",
        "\n",
        "if temp_entero < 35 and calor == \"SI\":\n",
        "  print(\"Tu temperatura es baja a pesar de hacer calor, podrías tener hipotermia.\")\n",
        "elif temp_entero < 35 and calor == \"NO\":\n",
        "  print(\"Tu temperatura es baja pero podría explicarse si estás en un lugar muy frío, de ser posible consulta a tu médico.\")\n",
        "elif temp_entero > 37 and calor == \"NO\":\n",
        "  print(\"Tu temperatura es alta como para que no haga calor, podrías tener fiebre.\")\n",
        "elif temp_entero > 37 and calor == \"SI\":\n",
        "  print(\"Tu temperatura es alta pero podría deberse al clima, de ser posible consulta a tu médico.\")\n",
        "else:\n",
        "  print(\"Tu temperatura es normal, tranquilo.\")\n"
      ],
      "execution_count": null,
      "outputs": [
        {
          "output_type": "stream",
          "name": "stdout",
          "text": [
            "Introduce tu temperatura actual en grados centigrados: 36\n",
            "¿Hace calor en donde te encuentras? (SI / NO) NO\n",
            "Tu temperatura es normal, tranquilo.\n"
          ]
        }
      ]
    },
    {
      "cell_type": "markdown",
      "metadata": {
        "id": "PaeIrmE44Wvo"
      },
      "source": [
        "# Condicionales: in y is\n",
        "Los operadores booleanos in y is permiten expresiones booleanas complejas como:"
      ]
    },
    {
      "cell_type": "code",
      "metadata": {
        "id": "KdwJoQoK4YHw",
        "colab": {
          "base_uri": "https://localhost:8080/"
        },
        "outputId": "14483f6b-ae75-4981-f2f3-6841eabb0b71"
      },
      "source": [
        "# is revisa si el objeto especificado se encuentra en otro objeto\n",
        "a = (\"canica\")\n",
        "b = (\"pelota\")\n",
        "\n",
        "print(\"a contiene la letra i:\",\"i\" in a)\n",
        "print(\"b contiene la letra x:\", \"x\" in b)"
      ],
      "execution_count": null,
      "outputs": [
        {
          "output_type": "stream",
          "name": "stdout",
          "text": [
            "a contiene la letra i: True\n",
            "b contiene la letra x: False\n"
          ]
        }
      ]
    },
    {
      "cell_type": "code",
      "metadata": {
        "id": "bmiuBUMq49AA",
        "colab": {
          "base_uri": "https://localhost:8080/"
        },
        "outputId": "015c3f43-c3a2-404c-b820-5b0857014305"
      },
      "source": [
        "# is revisa si se trata del mismo objeto\n",
        "a = (\"canica\")\n",
        "b = (\"pelota\")\n",
        "\n",
        "print(\"a y b son los mismos objetos:\",a is b)\n",
        "\n",
        "c = (\"lupa\")\n",
        "d = (\"lupa\")\n",
        "\n",
        "print(\"c y d son los mismos objetos:\",c is d)"
      ],
      "execution_count": null,
      "outputs": [
        {
          "output_type": "stream",
          "name": "stdout",
          "text": [
            "a y b son los mismos objetos: False\n",
            "c y d son los mismos objetos: True\n"
          ]
        }
      ]
    },
    {
      "cell_type": "markdown",
      "metadata": {
        "id": "itEziK8C5coc"
      },
      "source": [
        "# Ciclos\n",
        "\n",
        "Los ciclos sirven para cursar sobre una secuencia (como una lista, un diccionario o una cadena de caracteres).\n",
        "\n",
        "El ciclo for, por ejemplo, permite ejecutar una conjunto de instrucciones, una para cada elemento en la lista, diccionario o cadena de caracteres que pretendemos leer."
      ]
    },
    {
      "cell_type": "markdown",
      "metadata": {
        "id": "1C5otK3aOcx5"
      },
      "source": [
        "## for loops"
      ]
    },
    {
      "cell_type": "markdown",
      "metadata": {
        "id": "3JSxKnoh5kcS"
      },
      "source": [
        "# Declarando un ciclo for\n",
        "Podemos crear una lista de variables con números primos dentro"
      ]
    },
    {
      "cell_type": "code",
      "metadata": {
        "id": "b7ZmclEElRA2",
        "colab": {
          "base_uri": "https://localhost:8080/"
        },
        "outputId": "361dd518-5cb6-4116-c3cb-c0e383be7bb5"
      },
      "source": [
        "#Se recupera el diccionario de animales\n",
        "animales = {\"peces\" : [\"Gupi\", \"Charal\", \"Espada\", \"Mickey\", \"Carpa\"], \"perros\" : [\"San Bernardo\", \"Pastor Alemán\", \"Pastor Inglés\", \"Chihuahua\", \"Maltes\"],\n",
        "            \"reptiles\" : [\"Cocodrilo\", \"Iguana\", \"Camaleón\"]}\n",
        "\n",
        "#Se define un ciclo for para imprimir a todos los reptiles\n",
        "for i in animales[\"reptiles\"]:\n",
        "  print(\"En el diccionario de animales se encuentran los siguientes reptiles:\", i)"
      ],
      "execution_count": null,
      "outputs": [
        {
          "output_type": "stream",
          "name": "stdout",
          "text": [
            "En el diccionario de animales se encuentran los siguientes reptiles: Cocodrilo\n",
            "En el diccionario de animales se encuentran los siguientes reptiles: Iguana\n",
            "En el diccionario de animales se encuentran los siguientes reptiles: Camaleón\n"
          ]
        }
      ]
    },
    {
      "cell_type": "markdown",
      "metadata": {
        "id": "0SQqMtB9lZYA"
      },
      "source": [
        "### while loops"
      ]
    },
    {
      "cell_type": "code",
      "metadata": {
        "id": "vr0FbT97laxM",
        "colab": {
          "base_uri": "https://localhost:8080/"
        },
        "outputId": "87909a1f-6545-4dc7-c9d2-5103b6eccdc7"
      },
      "source": [
        "#Adivina un número entre 1 y 10\n",
        "numero_aleatorio = \"8\"\n",
        "numero_personal = input(\"Introduce un número entre 1 y 10 hasta adivinar el número ganador: \")\n",
        "\n",
        "while numero_personal != numero_aleatorio:\n",
        "  print(\"Este no es el número buscado, vuelve a intentarlo\")\n",
        "  numero_personal = input(\"Introduce un número entre 1 y 10 hasta adivinar el número ganador\")\n",
        "else:\n",
        "  print(\"Lo lograste, el número ganador es 8.\")\n"
      ],
      "execution_count": null,
      "outputs": [
        {
          "output_type": "stream",
          "name": "stdout",
          "text": [
            "Introduce un número entre 1 y 10 hasta adivinar el número ganador: 1\n",
            "Este no es el número buscado, vuelve a intentarlo\n",
            "Introduce un número entre 1 y 10 hasta adivinar el número ganador2\n",
            "Este no es el número buscado, vuelve a intentarlo\n",
            "Introduce un número entre 1 y 10 hasta adivinar el número ganador8\n",
            "Lo lograste, el número ganador es 8\n"
          ]
        }
      ]
    },
    {
      "cell_type": "markdown",
      "metadata": {
        "id": "MwalUZiPlenr"
      },
      "source": [
        "### break and continue: Fine-Tuning Your Loops\n",
        "\n",
        "- `break` se sale del bucle por completo\n",
        "- `continue` omite el resto del ciclo actual y pasa a la siguiente iteración "
      ]
    },
    {
      "cell_type": "code",
      "metadata": {
        "id": "0RUUZQLXlu5y",
        "colab": {
          "base_uri": "https://localhost:8080/"
        },
        "outputId": "60eeadab-3288-4b6d-94d2-1d00fe732d21"
      },
      "source": [
        "n = 2\n",
        "while n <= 11:\n",
        "  n += 1\n",
        "  print(n)\n",
        "\n",
        "  if n == 10:\n",
        "    break"
      ],
      "execution_count": null,
      "outputs": [
        {
          "output_type": "stream",
          "name": "stdout",
          "text": [
            "3\n",
            "4\n",
            "5\n",
            "6\n",
            "7\n",
            "8\n",
            "9\n",
            "10\n"
          ]
        }
      ]
    },
    {
      "cell_type": "code",
      "metadata": {
        "id": "aRWUGESvlujS",
        "colab": {
          "base_uri": "https://localhost:8080/"
        },
        "outputId": "840bc1f0-1680-4e56-b247-0bb9acbc3423"
      },
      "source": [
        "n = 2\n",
        "while n <= 11:\n",
        "  n += 1\n",
        "  print(n)\n",
        "\n",
        "  if not n == 6:\n",
        "    continue\n",
        "    "
      ],
      "execution_count": null,
      "outputs": [
        {
          "output_type": "stream",
          "name": "stdout",
          "text": [
            "3\n",
            "4\n",
            "5\n",
            "6\n",
            "7\n",
            "8\n",
            "9\n",
            "10\n",
            "11\n",
            "12\n"
          ]
        }
      ]
    },
    {
      "cell_type": "markdown",
      "metadata": {
        "id": "l07zEnZew17m"
      },
      "source": [
        "## Funciones"
      ]
    },
    {
      "cell_type": "markdown",
      "metadata": {
        "id": "72TKXLd7maKb"
      },
      "source": [
        "### Key-word arguments"
      ]
    },
    {
      "cell_type": "code",
      "metadata": {
        "id": "JXttHZfOmcw4",
        "colab": {
          "base_uri": "https://localhost:8080/"
        },
        "outputId": "f9f24839-f45f-45df-d610-47481f6d8a6c"
      },
      "source": [
        "def animal_color (animal, color):\n",
        "  print(f\"El color del {animal} es {color}\")\n",
        "\n",
        "animal_color(animal = \"loro\", color = \"verde\")"
      ],
      "execution_count": null,
      "outputs": [
        {
          "output_type": "stream",
          "name": "stdout",
          "text": [
            "El color del loro es verde\n"
          ]
        }
      ]
    },
    {
      "cell_type": "markdown",
      "metadata": {
        "id": "6h4P48jLmtJ8"
      },
      "source": [
        "### Defining Functions"
      ]
    },
    {
      "cell_type": "markdown",
      "metadata": {
        "id": "KBv28tsi6CgD"
      },
      "source": [
        "Las funciones son una manera conveniente de dividir el código en bloques útiles, permitiendo órden, haciéndolo más leíble, reusable y nos permite ser más productivos.\n",
        "\n",
        "Las funciones son una manera muy valiosa de definir interfaces de manera que los y las programadoras pueden compartir su código."
      ]
    },
    {
      "cell_type": "markdown",
      "metadata": {
        "id": "Dh4rCYsG6OYg"
      },
      "source": [
        "### Usamos la palabra def para declarar nuestra función:"
      ]
    },
    {
      "cell_type": "code",
      "metadata": {
        "id": "f8dxrXiH6RDI",
        "colab": {
          "base_uri": "https://localhost:8080/"
        },
        "outputId": "20ad44e7-e32f-4379-ef72-40a700bc0f86"
      },
      "source": [
        "def multiplicacion(n1, n2):\n",
        "  print(n1 * n2)\n",
        "  pass\n",
        "\n",
        "mp_1 = multiplicacion(8, 8)\n"
      ],
      "execution_count": null,
      "outputs": [
        {
          "output_type": "stream",
          "name": "stdout",
          "text": [
            "64\n"
          ]
        }
      ]
    },
    {
      "cell_type": "markdown",
      "metadata": {
        "id": "Q2CXVZ5U6VIc"
      },
      "source": [
        "O podemos crear una función con argumentos:\n"
      ]
    },
    {
      "cell_type": "code",
      "metadata": {
        "id": "TmQOIgFz6Vbz",
        "colab": {
          "base_uri": "https://localhost:8080/"
        },
        "outputId": "1438aa4d-8753-47f3-fa07-01d469afeb7a"
      },
      "source": [
        "class Alumno:\n",
        "  def __init__(self, nombre, animal):\n",
        "    self.nombre = nombre\n",
        "    self.animal = animal\n",
        "  \n",
        "  def animal_gusto(self):\n",
        "    print(f\"El animal favorito de {self.nombre} es el {self.animal}\")\n",
        "\n",
        "p1 = Alumno(\"Miguel\", \"Gato\")\n",
        "p1.animal_gusto()"
      ],
      "execution_count": null,
      "outputs": [
        {
          "output_type": "stream",
          "name": "stdout",
          "text": [
            "El animal favorito de Miguel es el Gato\n"
          ]
        }
      ]
    },
    {
      "cell_type": "markdown",
      "metadata": {
        "id": "SIRGOG_f6r-X"
      },
      "source": [
        "### Podemos crear funciones que regrese valores\n",
        "\n",
        "### Y podemos hacer uso de la función así y guardar el resultado de la ejecución del método en la variable resultado"
      ]
    },
    {
      "cell_type": "markdown",
      "metadata": {
        "id": "PKDN3o0XmtE5"
      },
      "source": [
        "### DValores default para las funciones"
      ]
    },
    {
      "cell_type": "markdown",
      "metadata": {
        "id": "2rGTAXA6nE1z"
      },
      "source": [
        "### *args and **kwargs: Argumentos Flexibles"
      ]
    },
    {
      "cell_type": "markdown",
      "metadata": {
        "id": "yPfj_v3V--q4"
      },
      "source": [
        "El principal uso de *args y **kwargs es en la definición de funciones. Ambos permiten pasar un número variable de argumentos a una función, por lo que si quieres definir una función cuyo número de parámetros de entrada puede ser variable, considera el uso de *args o **kwargs como una opción.\n",
        "\n",
        "**kwargs permite pasar argumentos de longitud variable asociados con un nombre o key a una función. Deberías usar **kwargs si quieres manejar argumentos con nombre como entrada a una función."
      ]
    },
    {
      "cell_type": "code",
      "metadata": {
        "id": "Co0QS7x_paYD",
        "colab": {
          "base_uri": "https://localhost:8080/"
        },
        "outputId": "45e4ed88-30d7-47fd-a4c9-e543b43eb24f"
      },
      "source": [
        "def saludo(*personas):\n",
        "  for i in personas:\n",
        "    print(f\"Hola estimado {personas}\")\n",
        "  \n",
        "saludo(\"Uranio\")"
      ],
      "execution_count": null,
      "outputs": [
        {
          "output_type": "stream",
          "name": "stdout",
          "text": [
            "Hola estimado ('Uranio',)\n"
          ]
        }
      ]
    },
    {
      "cell_type": "markdown",
      "metadata": {
        "id": "5jrMM8Wznc6E"
      },
      "source": [
        "### Funciones lambda"
      ]
    },
    {
      "cell_type": "markdown",
      "metadata": {
        "id": "h4_PUhQjDET0"
      },
      "source": [
        "## Buenas prácticas para escribir código Python\n",
        "\n",
        "Las convenciones para escribir código Python se describen en [The PEP 8 Style Guide for Python Code](https://www.python.org/dev/peps/pep-0008/), entre las que encontramos,\n",
        "\n",
        "- Longitud máxima de línea: 79 caracteres.\n",
        "- 4 espacios por nivel de sangría\n",
        "- 'Hanging indentation' para contenido dentro de brackets\n",
        "- Espacio alrededor de operadores\n",
        "- Una expresión po línea"
      ]
    }
  ]
}