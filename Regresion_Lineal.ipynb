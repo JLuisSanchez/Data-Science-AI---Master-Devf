{
  "nbformat": 4,
  "nbformat_minor": 0,
  "metadata": {
    "colab": {
      "provenance": [],
      "authorship_tag": "ABX9TyNW98TD4pMUc6XRudH0VaVq",
      "include_colab_link": true
    },
    "kernelspec": {
      "name": "python3",
      "display_name": "Python 3"
    },
    "language_info": {
      "name": "python"
    }
  },
  "cells": [
    {
      "cell_type": "markdown",
      "metadata": {
        "id": "view-in-github",
        "colab_type": "text"
      },
      "source": [
        "<a href=\"https://colab.research.google.com/github/JLuisSanchez/Data-Science-AI---Master-Devf/blob/main/Regresion_Lineal.ipynb\" target=\"_parent\"><img src=\"https://colab.research.google.com/assets/colab-badge.svg\" alt=\"Open In Colab\"/></a>"
      ]
    },
    {
      "cell_type": "code",
      "execution_count": null,
      "metadata": {
        "id": "kN20VbyGBE0N"
      },
      "outputs": [],
      "source": [
        "import numpy as np\n",
        "import matplotlib.pyplot as plt\n",
        "np.random.seed(40)"
      ]
    },
    {
      "cell_type": "code",
      "source": [
        "n = 1000 #Cantidad de números aleatorios\n",
        "X = np.random.uniform(-10, 10, n)\n",
        "m_verdadera, b_verdadera = 7, -1\n",
        "# y = 7x - 1\n",
        "y = m_verdadera * X + b_verdadera + np.random.normal(0, 10, n)"
      ],
      "metadata": {
        "id": "hheONHIVBog3"
      },
      "execution_count": null,
      "outputs": []
    },
    {
      "cell_type": "code",
      "source": [
        "plt.scatter(X, y)"
      ],
      "metadata": {
        "colab": {
          "base_uri": "https://localhost:8080/",
          "height": 282
        },
        "id": "ye5yCBqyCR5v",
        "outputId": "715211ac-cf11-40ec-9678-15aebd36c1d8"
      },
      "execution_count": null,
      "outputs": [
        {
          "output_type": "execute_result",
          "data": {
            "text/plain": [
              "<matplotlib.collections.PathCollection at 0x7f1bb8b663d0>"
            ]
          },
          "metadata": {},
          "execution_count": 5
        },
        {
          "output_type": "display_data",
          "data": {
            "text/plain": [
              "<Figure size 432x288 with 1 Axes>"
            ],
            "image/png": "[encoded data removed]"
          },
          "metadata": {
            "needs_background": "light"
          }
        }
      ]
    },
    {
      "cell_type": "code",
      "source": [
        "alpha = 0.001 #Tasa de aprendizaje\n",
        "epocas = 100\n",
        "m = 0\n",
        "b = 0\n",
        "\n",
        "errores = []\n",
        "\n",
        "for i in range(epocas):\n",
        "  y_pred = m * X + b\n",
        "  error = (1/n) * sum((y - y_pred) ** 2)\n",
        "  errores.append(error)\n",
        "  D_m = (-2/n) * sum((y - y_pred) * X)\n",
        "  D_b = (-2/n) * sum(y - y_pred)\n",
        "  m = m - alpha * D_m\n",
        "  b = b - alpha * D_b"
      ],
      "metadata": {
        "id": "PS9MYYe5Dzy_"
      },
      "execution_count": null,
      "outputs": []
    },
    {
      "cell_type": "code",
      "source": [
        "plt.plot(errores)"
      ],
      "metadata": {
        "colab": {
          "base_uri": "https://localhost:8080/",
          "height": 282
        },
        "id": "9Tf3JiwUFgMu",
        "outputId": "b0246cae-dffd-47db-dd3f-a1c62cd88620"
      },
      "execution_count": null,
      "outputs": [
        {
          "output_type": "execute_result",
          "data": {
            "text/plain": [
              "[<matplotlib.lines.Line2D at 0x7f1bb83e2e50>]"
            ]
          },
          "metadata": {},
          "execution_count": 14
        },
        {
          "output_type": "display_data",
          "data": {
            "text/plain": [
              "<Figure size 432x288 with 1 Axes>"
            ],
            "image/png": "[encoded data removed]"
          },
          "metadata": {
            "needs_background": "light"
          }
        }
      ]
    },
    {
      "cell_type": "code",
      "source": [
        "print(m)\n",
        "print(b)"
      ],
      "metadata": {
        "colab": {
          "base_uri": "https://localhost:8080/"
        },
        "id": "WaSirzIeGguo",
        "outputId": "7f47ba29-ecbf-4c97-f1a8-32ee4ca852c7"
      },
      "execution_count": null,
      "outputs": [
        {
          "output_type": "stream",
          "name": "stdout",
          "text": [
            "6.877173353876306\n",
            "-0.136429085654463\n"
          ]
        }
      ]
    },
    {
      "cell_type": "code",
      "source": [
        "X_grafica = np.arange(-10, 10)\n",
        "plt.plot(X_grafica, m*X_grafica + b, color = \"b\")\n",
        "plt.plot(X_grafica, m_verdadera * X_grafica + b_verdadera, color = \"g\")\n",
        "plt.legend([\"predicciones\", \"Real\"])"
      ],
      "metadata": {
        "colab": {
          "base_uri": "https://localhost:8080/",
          "height": 282
        },
        "id": "-vEqF0S0Gk9F",
        "outputId": "d1ff2d99-0580-4ef4-ff2f-e41412b98d20"
      },
      "execution_count": null,
      "outputs": [
        {
          "output_type": "execute_result",
          "data": {
            "text/plain": [
              "<matplotlib.legend.Legend at 0x7f1bb833e250>"
            ]
          },
          "metadata": {},
          "execution_count": 16
        },
        {
          "output_type": "display_data",
          "data": {
            "text/plain": [
              "<Figure size 432x288 with 1 Axes>"
            ],
            "image/png": "[encoded data removed]"
          },
          "metadata": {
            "needs_background": "light"
          }
        }
      ]
    },
    {
      "cell_type": "markdown",
      "source": [
        "#Generacion del Dataset"
      ],
      "metadata": {
        "id": "vG4_FieuWsqk"
      }
    },
    {
      "cell_type": "code",
      "source": [
        "n = 1000\n",
        "m = 5\n",
        "X = np.random.uniform(-10, 10, (m,n))\n",
        "x_ones = np.ones(n)\n",
        "X = np.vstack([X, x_ones])\n",
        "W_real = np.random.randint(1, 10, m+1)\n",
        "y_real = W_real.dot(X) + np.random.normal(0, 10, n)"
      ],
      "metadata": {
        "id": "U4xbnN8kWrbk"
      },
      "execution_count": null,
      "outputs": []
    },
    {
      "cell_type": "code",
      "source": [
        "alpha = 0.001 #Tasa de aprendizaje\n",
        "epocas = 100\n",
        "W_guess = np.zeros(m+1)\n",
        "perdida = []\n",
        "\n",
        "for i in range(epocas):\n",
        "  y_pred = W_guess.dot(X)\n",
        "  error = (1/n) * sum((y_real - y_pred) ** 2)\n",
        "  perdida.append(error)\n",
        "  D_W = (-2/n) * np.sum(X*(y_real - y_pred), axis = 1)\n",
        "  W_guess = W_guess - alpha * D_W"
      ],
      "metadata": {
        "id": "5uYkjswuXyrV"
      },
      "execution_count": null,
      "outputs": []
    },
    {
      "cell_type": "code",
      "source": [
        "plt.plot(perdida)"
      ],
      "metadata": {
        "colab": {
          "base_uri": "https://localhost:8080/",
          "height": 282
        },
        "id": "97XEA_fJY76K",
        "outputId": "59f8a1c0-ffbf-422e-aa8f-24e78268b012"
      },
      "execution_count": null,
      "outputs": [
        {
          "output_type": "execute_result",
          "data": {
            "text/plain": [
              "[<matplotlib.lines.Line2D at 0x7f1bb8360a90>]"
            ]
          },
          "metadata": {},
          "execution_count": 23
        },
        {
          "output_type": "display_data",
          "data": {
            "text/plain": [
              "<Figure size 432x288 with 1 Axes>"
            ],
            "image/png": "[encoded data removed]"
          },
          "metadata": {
            "needs_background": "light"
          }
        }
      ]
    },
    {
      "cell_type": "code",
      "source": [
        "W_real"
      ],
      "metadata": {
        "colab": {
          "base_uri": "https://localhost:8080/"
        },
        "id": "ijXIyr6YZEaT",
        "outputId": "d9c59fb3-480e-43f0-ef91-fe422108a3b0"
      },
      "execution_count": null,
      "outputs": [
        {
          "output_type": "execute_result",
          "data": {
            "text/plain": [
              "array([1, 5, 8, 7, 6, 7])"
            ]
          },
          "metadata": {},
          "execution_count": 24
        }
      ]
    },
    {
      "cell_type": "code",
      "source": [
        "W_guess"
      ],
      "metadata": {
        "colab": {
          "base_uri": "https://localhost:8080/"
        },
        "id": "btFx_J0EZFma",
        "outputId": "800f8416-baee-45fd-9b40-bfa5a5ae5f6e"
      },
      "execution_count": null,
      "outputs": [
        {
          "output_type": "execute_result",
          "data": {
            "text/plain": [
              "array([0.96691342, 4.98350363, 8.05234914, 6.95398888, 5.97108364,\n",
              "       1.1172192 ])"
            ]
          },
          "metadata": {},
          "execution_count": 25
        }
      ]
    }
  ]
}