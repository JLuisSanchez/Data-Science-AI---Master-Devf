{
  "nbformat": 4,
  "nbformat_minor": 0,
  "metadata": {
    "colab": {
      "name": "Copia de Challenge POO.ipynb",
      "provenance": [],
      "collapsed_sections": []
    },
    "kernelspec": {
      "name": "python3",
      "display_name": "Python 3"
    },
    "language_info": {
      "name": "python"
    }
  },
  "cells": [
    {
      "cell_type": "markdown",
      "source": [
        "##Ejercicio 1\n",
        "Realizar un programa que conste de una clase llamada Alumno que tenga como atributos el nombre y la nota del alumno. Definir los métodos para inicializar sus atributos, imprimirlos y mostrar un mensaje con el resultado de la nota y si ha aprobado o no.\n"
      ],
      "metadata": {
        "id": "4EFGoEpOl5J9"
      }
    },
    {
      "cell_type": "code",
      "source": [
        "class Alumno:\n",
        "  def __init__(self, nombre, nota = 0):\n",
        "    self.nombre = nombre\n",
        "    self.nota = nota\n",
        "\n",
        "  def resultado(self):\n",
        "    if self.nota >= 6:\n",
        "      print(f\"{self.nombre} tu calificación es: {self.nota}, tú resultado es Aprobatorio\")  \n",
        "    elif self.nota < 6:\n",
        "      print(f\"{self.nombre} tu calificación es: {self.nota}, tú resultado es Reprobatorio\")"
      ],
      "metadata": {
        "id": "P9ullKnYnFfF"
      },
      "execution_count": null,
      "outputs": []
    },
    {
      "cell_type": "code",
      "source": [
        "alumno1 = Alumno(\"José Luis\",10)\n",
        "alumno2 = Alumno(\"Irma\",4)\n",
        "alumno3 = Alumno(\"Abigail\",10)\n",
        "alumno4 = Alumno(\"Monserrat\",8)\n",
        "alumno5 = Alumno(\"Cristian\",1)\n",
        "\n",
        "alumno1.resultado()\n",
        "alumno2.resultado()\n",
        "alumno3.resultado()\n",
        "alumno4.resultado()\n",
        "alumno5.resultado()"
      ],
      "metadata": {
        "colab": {
          "base_uri": "https://localhost:8080/"
        },
        "id": "fDJcNDlX5956",
        "outputId": "ab859f44-17ae-442b-e7c0-cad948c75e47"
      },
      "execution_count": null,
      "outputs": [
        {
          "output_type": "stream",
          "name": "stdout",
          "text": [
            "José Luis tu calificación es: 10, tú resultado es Aprobatorio\n",
            "Irma tu calificación es: 4, tú resultado es Reprobatorio\n",
            "Abigail tu calificación es: 10, tú resultado es Aprobatorio\n",
            "Monserrat tu calificación es: 8, tú resultado es Aprobatorio\n",
            "Cristian tu calificación es: 1, tú resultado es Reprobatorio\n"
          ]
        }
      ]
    },
    {
      "cell_type": "markdown",
      "source": [
        "##Ejercicio 2\n",
        "Realizar un programa que tenga una clase Persona con las siguientes características. La clase tendrá como atributos el nombre y la edad de una persona. Implementar los métodos necesarios para inicializar los atributos, mostrar los datos e indicar si la persona es mayor de edad o no.\n"
      ],
      "metadata": {
        "id": "b_bGLJVvmDb5"
      }
    },
    {
      "cell_type": "code",
      "source": [
        "class Persona():\n",
        "  def __init__(self, nombre, edad):\n",
        "    self.nombre = nombre\n",
        "    self.edad = edad\n",
        "  \n",
        "  def comprobante(self):\n",
        "    if self.edad < 18:\n",
        "      print(f\"¡Hola! {self.nombre} tu edad es: {self.edad}, no eres mayor de edad\")\n",
        "    elif self.edad >= 18:\n",
        "      print(f\"¡Hola! {self.nombre} tu edad es: {self.edad}, eres mayor de edad\")"
      ],
      "metadata": {
        "id": "t_Kbaj2EnF9N"
      },
      "execution_count": null,
      "outputs": []
    },
    {
      "cell_type": "code",
      "source": [
        "p1 = Persona(\"Luis\", 25)\n",
        "p2 = Persona(\"Monse\", 40)\n",
        "p3 = Persona(\"Irma\", 33)\n",
        "p4 = Persona(\"Oliver\", 14)\n",
        "\n",
        "p1.comprobante()\n",
        "p2.comprobante()\n",
        "p3.comprobante()\n",
        "p4.comprobante()"
      ],
      "metadata": {
        "colab": {
          "base_uri": "https://localhost:8080/"
        },
        "id": "xZFssZEQAGzI",
        "outputId": "adde6306-d361-4cd1-d04d-3cf68a406410"
      },
      "execution_count": null,
      "outputs": [
        {
          "output_type": "stream",
          "name": "stdout",
          "text": [
            "¡Hola! Luis tu edad es: 25, eres mayor de edad\n",
            "¡Hola! Monse tu edad es: 40, eres mayor de edad\n",
            "¡Hola! Irma tu edad es: 33, eres mayor de edad\n",
            "¡Hola! Oliver tu edad es: 14, no eres mayor de edad\n"
          ]
        }
      ]
    },
    {
      "cell_type": "markdown",
      "source": [
        "##Ejercicio 3\n",
        "Desarrollar un programa que cargue los datos de un triángulo. Implementar una clase con los métodos para inicializar los atributos, imprimir el valor del lado con un tamaño mayor y  el tipo de triángulo que es (equilátero, isósceles o escaleno).\n"
      ],
      "metadata": {
        "id": "Esf21Be0mTBn"
      }
    },
    {
      "cell_type": "code",
      "source": [
        "#Se define la clase método y una función que guarde los datos de los lados.\n",
        "class Triangulo():\n",
        "  def __init__(self, lado1, lado2, lado3):\n",
        "    self.lado1 = lado1\n",
        "    self.lado2 = lado2\n",
        "    self.lado3 = lado3\n",
        "\n",
        "#Se define la función para diferenciar el tipo de triángulo con el uso de condicionales.\n",
        "  def tipo_triangulo(self):\n",
        "    if self.lado1 == self.lado2 == self.lado3:\n",
        "      print(f\"El triángulo es equilátero y sus lados son iguales, cada uno de sus lados tiene un valor de {self.lado1} cm\")\n",
        "    elif self.lado1 != self.lado2 != self.lado3:\n",
        "      ladom = max(self.lado1, self.lado2, self.lado3)\n",
        "      print(f\"El triángulo es escaleno y todos sus lados son diferentes, su lado mayor es: {ladom} cm\")\n",
        "    else:\n",
        "      ladom = max(self.lado1, self.lado2, self.lado3)\n",
        "      print(f\"El triángulo es isósceles y dos de sus lados son iguales, su lado mayor es: {ladom} cm\")"
      ],
      "metadata": {
        "id": "sPqi1jqCnGfD"
      },
      "execution_count": null,
      "outputs": []
    },
    {
      "cell_type": "code",
      "source": [
        "#Se define un triángulo equilátero llamando a la clase y se manda a llamar al método tipo_triángulo.\n",
        "t1 = Triangulo(15, 15, 15)\n",
        "t1.tipo_triangulo()\n",
        "\n",
        "#Se define un triángulo escaleno llamando a la clase y se manda a llamar al método tipo_triángulo.\n",
        "t2 = Triangulo(13,10,8)\n",
        "t2.tipo_triangulo()\n",
        "\n",
        "#Se define un triángulo isósceles llamando a la clase y se manda a llamar al método tipo_triángulo.\n",
        "t3 = Triangulo(10, 10, 5)\n",
        "t3.tipo_triangulo()"
      ],
      "metadata": {
        "colab": {
          "base_uri": "https://localhost:8080/"
        },
        "id": "JX7WUVIOJMaj",
        "outputId": "7413aa91-8446-49d5-953a-5de1e2b9e93c"
      },
      "execution_count": null,
      "outputs": [
        {
          "output_type": "stream",
          "name": "stdout",
          "text": [
            "El triángulo es equilátero y sus lados son iguales, cada uno de sus lados tiene un valor de 15 cm\n",
            "El triángulo es escaleno y todos sus lados son diferentes, su lado mayor es: 13 cm\n",
            "El triángulo es isósceles y dos de sus lados son iguales, su lado mayor es: 10 cm\n"
          ]
        }
      ]
    },
    {
      "cell_type": "markdown",
      "source": [
        "##Ejercicio 4\n",
        "Realizar un programa en el cual se declaren dos valores enteros por teclado utilizando el método __init__. Calcular después la suma, resta, multiplicación y división. Utilizar un método para cada una e imprimir los resultados obtenidos. Llamar a la clase Calculadora."
      ],
      "metadata": {
        "id": "FuDVAwyLmXM_"
      }
    },
    {
      "cell_type": "code",
      "source": [
        "class Calculadora:\n",
        "  def __init__(self, num1 = int, num2 = int):\n",
        "    self.num1 = num1\n",
        "    self.num2 = num2\n",
        "  \n",
        "  def operaciones(self):\n",
        "    suma = self.num1 + self.num2\n",
        "    resta = self.num1 - self.num2\n",
        "    multiplicacion = self.num1 * self.num2\n",
        "    division = self.num1 / self.num2\n",
        "    print(f\"El resultado de la suma de los dos números es: {suma}\")\n",
        "    print(f\"El resulto de la resta de los dos número es: {resta}\")\n",
        "    print(f\"El resultado de la multiplicación de los dos números es: {multiplicacion}\")\n",
        "    print(f\"El resultado de la división de los dos números es: {division}\")\n"
      ],
      "metadata": {
        "id": "VnFcFidTnG-O"
      },
      "execution_count": null,
      "outputs": []
    },
    {
      "cell_type": "code",
      "source": [
        "calculo_1 = Calculadora(10, 8)\n",
        "calculo_1.operaciones()"
      ],
      "metadata": {
        "colab": {
          "base_uri": "https://localhost:8080/"
        },
        "id": "hayxOPn7PvPJ",
        "outputId": "51b2db0b-19dc-4d25-9219-70068cffa856"
      },
      "execution_count": null,
      "outputs": [
        {
          "output_type": "stream",
          "name": "stdout",
          "text": [
            "El resultado de la suma de los dos números es: 18\n",
            "El resulto de la resta de los dos número es: 2\n",
            "El resultado de la multiplicación de los dos números es: 80\n",
            "El resultado de la división de los dos números es: 1.25\n"
          ]
        }
      ]
    },
    {
      "cell_type": "markdown",
      "source": [
        "##Ejercicio 5\n",
        "Realizar una clase que administre una agenda. Se debe almacenar para cada contacto el nombre, el teléfono y el email. Además deberá mostrar un menú con las siguientes opciones\n",
        "\n",
        "\n",
        "\n",
        "*   Añadir contacto\n",
        "*   Lista de contactos\n",
        "*   Buscar contacto\n",
        "*   Editar contacto\n",
        "*   Cerrar agenda"
      ],
      "metadata": {
        "id": "NmarrIA6mdo5"
      }
    },
    {
      "cell_type": "code",
      "source": [
        "#Se crea la clase agenda\n",
        "class Agenda():\n",
        "  def __init__(self):\n",
        "    self.contactos = []\n",
        "\n",
        "#Se crea el menú\n",
        "  def menu(self):\n",
        "    print()\n",
        "    menu = [[\"Agenda Personal\"],\n",
        "            [\"1. Añadir Contacto\", \"Añadir\"],\n",
        "            [\"2. Lista de contactos\"],\n",
        "            [\"3. Buscar contacto\"],\n",
        "            [\"4. Editar contacto\"],\n",
        "            [\"5. Cerrar agenda\"]            \n",
        "    ]\n",
        "\n",
        "    for x in range(6):\n",
        "      print(menu[x][0])\n",
        "\n",
        "    opcion = int(input(\"Introduzca la opción deseada: \"))\n",
        "    if opcion == 1:\n",
        "      self.añadir()\n",
        "    elif opcion == 2:\n",
        "      self.lista()\n",
        "    elif opcion == 3:\n",
        "      self.buscar()\n",
        "    elif opcion == 4:\n",
        "      self.editar()\n",
        "    elif opcion == 5:\n",
        "      print(\"saliendo de la agenda...\")\n",
        "      exit()\n",
        "    \n",
        "    self.menu()\n",
        "\n",
        "  def añadir(self):\n",
        "    print(\"Añadir un nuevo contacto\")\n",
        "    nombre = input(\"Introduzca el nombre: \")\n",
        "    telefono = int(input(\"Introduzca el número de teléfono: \"))\n",
        "    email = str(input(\"Introduzca el email: \"))\n",
        "    self.contactos.append({\"nombre\": nombre, \"telefono\": telefono, \"email\": email})\n",
        "\n",
        "  def lista(self):\n",
        "    print(\"Lista de contactos\")\n",
        "    if len(self.contactos) == 0:\n",
        "      print(\"No tienes ningún contacto registrado\")\n",
        "    else:\n",
        "      for x in range(len(self.contactos)):\n",
        "        print(self.contactos[x][\"nombre\"])\n",
        "\n",
        "  def buscar(self):\n",
        "    print(\"Buscador de contactos\")\n",
        "    nombre = input(\"Introduzca el nombre del contacto: \")\n",
        "    for x in range(len(self.contactos)):\n",
        "      if nombre == self.contactos[x][\"nombre\"]:\n",
        "        print(\"Datos del contacto\")\n",
        "        print(\"Nombre: \", self.contactos[x][\"nombre\"])\n",
        "        print(\"Teléfono: \", self.contactos[x][\"telefono\"])\n",
        "        print(\"Email: \", self.contactos[x][\"email\"])\n",
        "        return x\n",
        "\n",
        "  \n",
        "  def editar(self):\n",
        "    print(\"Editar Contacto\")\n",
        "    data = self.buscar()\n",
        "    condicion = False\n",
        "    while condicion == False:\n",
        "      print(\"Selecciona que quieres editar: \")\n",
        "      print(\"1. Nombre\")\n",
        "      print(\"2. Telefono\")\n",
        "      print(\"3. E-mail\")\n",
        "      print(\"4. Volver\")\n",
        "      option = int(input(\"Introduzca la opción deseada: \"))\n",
        "      if option == 1:\n",
        "        nombre= input(\"Introduzca el nuevo nombre: \")\n",
        "        self.contactos[data][\"nombre\"] = nombre\n",
        "      elif option == 2:\n",
        "        telefono = input(\"Introduzca el nuevo teléfono: \")\n",
        "        self.contactos[data][\"telefono\"] = telefono\n",
        "      elif option == 3:\n",
        "        email = input(\"Introduzca el nuevo E-mail: \")\n",
        "        self.contactos[data][\"email\"] = email\n",
        "      elif option == 4:\n",
        "        condicion = True"
      ],
      "metadata": {
        "id": "hvhudvVInHpR"
      },
      "execution_count": null,
      "outputs": []
    },
    {
      "cell_type": "code",
      "source": [
        "agenda1 = Agenda()\n",
        "agenda1.menu()"
      ],
      "metadata": {
        "id": "QGsZIB3aFWDB"
      },
      "execution_count": null,
      "outputs": []
    }
  ]
}