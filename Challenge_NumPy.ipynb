{
  "nbformat": 4,
  "nbformat_minor": 0,
  "metadata": {
    "celltoolbar": "Create Assignment",
    "kernelspec": {
      "display_name": "Python 3",
      "language": "python",
      "name": "python3"
    },
    "language_info": {
      "codemirror_mode": {
        "name": "ipython",
        "version": 3
      },
      "file_extension": ".py",
      "mimetype": "text/x-python",
      "name": "python",
      "nbconvert_exporter": "python",
      "pygments_lexer": "ipython3",
      "version": "3.8.8"
    },
    "colab": {
      "provenance": [],
      "include_colab_link": true
    }
  },
  "cells": [
    {
      "cell_type": "markdown",
      "metadata": {
        "id": "view-in-github",
        "colab_type": "text"
      },
      "source": [
        "<a href=\"https://colab.research.google.com/github/JLuisSanchez/Data-Science-AI---Master-Devf/blob/main/Challenge_NumPy.ipynb\" target=\"_parent\"><img src=\"https://colab.research.google.com/assets/colab-badge.svg\" alt=\"Open In Colab\"/></a>"
      ]
    },
    {
      "cell_type": "markdown",
      "metadata": {
        "id": "vxaJjqJur_lZ"
      },
      "source": [
        "###### (2020) Gonzalo G. Peraza Mues"
      ]
    },
    {
      "cell_type": "markdown",
      "metadata": {
        "id": "YrjkXOc4TKWi"
      },
      "source": [
        "# Ejercicios de NumPy\n",
        "\n",
        "Ahora que has aprendido acerca de NumPy vamos a poner a prueba tu conocimiento. Comenzaremos con algunas tareas simples y depués se te harán algunas preguntas más complicadas.\n",
        "\n",
        "IMPORTANTE\n",
        "\n",
        "Asegurate de no ejecutar las celdas directamente arriba de la salida de ejemplo, ¡de otro modo podrías sobreescribir la salida del ejercicio!"
      ]
    },
    {
      "cell_type": "markdown",
      "metadata": {
        "id": "s81AJlLeTKWy"
      },
      "source": [
        "#### 1. Importa NumPy con el nombre np"
      ]
    },
    {
      "cell_type": "code",
      "execution_count": 2,
      "metadata": {
        "id": "tqueaw7PTKW0"
      },
      "outputs": [],
      "source": [
        "import numpy as np"
      ]
    },
    {
      "cell_type": "markdown",
      "metadata": {
        "id": "JT9PG7R7TKW4"
      },
      "source": [
        "#### 2. Crea un arreglo de 10 ceros"
      ]
    },
    {
      "cell_type": "code",
      "execution_count": 3,
      "metadata": {
        "collapsed": true,
        "jupyter": {
          "outputs_hidden": true
        },
        "id": "yDipXWywTKW5",
        "colab": {
          "base_uri": "https://localhost:8080/"
        },
        "outputId": "ce7739bf-8e86-4e9d-b0fb-d80eb5744bb4"
      },
      "outputs": [
        {
          "output_type": "execute_result",
          "data": {
            "text/plain": [
              "array([0., 0., 0., 0., 0., 0., 0., 0., 0., 0.])"
            ]
          },
          "metadata": {},
          "execution_count": 3
        }
      ],
      "source": [
        "np.zeros(10)"
      ]
    },
    {
      "cell_type": "code",
      "execution_count": 4,
      "metadata": {
        "id": "Szpd--cyTKW9"
      },
      "outputs": [],
      "source": [
        "# NO ESCRIBAS AQUI"
      ]
    },
    {
      "cell_type": "markdown",
      "metadata": {
        "id": "oSjB1La8TKW_"
      },
      "source": [
        "#### 3. Crea un arreglo de 10 unos"
      ]
    },
    {
      "cell_type": "code",
      "execution_count": 5,
      "metadata": {
        "collapsed": true,
        "jupyter": {
          "outputs_hidden": true
        },
        "id": "XnlPPpg2TKXB",
        "colab": {
          "base_uri": "https://localhost:8080/"
        },
        "outputId": "44c2da3c-a461-4cbe-9bdf-aaaa2f2c523b"
      },
      "outputs": [
        {
          "output_type": "execute_result",
          "data": {
            "text/plain": [
              "array([1., 1., 1., 1., 1., 1., 1., 1., 1., 1.])"
            ]
          },
          "metadata": {},
          "execution_count": 5
        }
      ],
      "source": [
        "np.ones(10)"
      ]
    },
    {
      "cell_type": "code",
      "execution_count": 6,
      "metadata": {
        "id": "QQ5uPt0ATKXC"
      },
      "outputs": [],
      "source": [
        "# NO ESCRIBAS AQUI"
      ]
    },
    {
      "cell_type": "markdown",
      "metadata": {
        "id": "kGxd8396TKXD"
      },
      "source": [
        "#### 4. Crea un arreglo de 10 cincos"
      ]
    },
    {
      "cell_type": "code",
      "execution_count": 7,
      "metadata": {
        "collapsed": true,
        "jupyter": {
          "outputs_hidden": true
        },
        "id": "wnMoU3EFTKXE",
        "colab": {
          "base_uri": "https://localhost:8080/"
        },
        "outputId": "71610fb4-d14e-4b74-acf2-e904694697c8"
      },
      "outputs": [
        {
          "output_type": "execute_result",
          "data": {
            "text/plain": [
              "array([5., 5., 5., 5., 5., 5., 5., 5., 5., 5.])"
            ]
          },
          "metadata": {},
          "execution_count": 7
        }
      ],
      "source": [
        "np.ones(10)*5"
      ]
    },
    {
      "cell_type": "code",
      "execution_count": 8,
      "metadata": {
        "id": "RkWbsSduTKXF"
      },
      "outputs": [],
      "source": [
        "# NO ESCRIBAS AQUI"
      ]
    },
    {
      "cell_type": "markdown",
      "metadata": {
        "id": "bO3KCnsPTKXG"
      },
      "source": [
        "#### 5. Crea un arreglo de enteros del 10 al 50"
      ]
    },
    {
      "cell_type": "code",
      "execution_count": 9,
      "metadata": {
        "collapsed": true,
        "jupyter": {
          "outputs_hidden": true
        },
        "id": "lNjNlSLZTKXH",
        "colab": {
          "base_uri": "https://localhost:8080/"
        },
        "outputId": "5cfc1e6c-34e9-4119-c38e-33222dab6ad3"
      },
      "outputs": [
        {
          "output_type": "execute_result",
          "data": {
            "text/plain": [
              "array([10, 11, 12, 13, 14, 15, 16, 17, 18, 19, 20, 21, 22, 23, 24, 25, 26,\n",
              "       27, 28, 29, 30, 31, 32, 33, 34, 35, 36, 37, 38, 39, 40, 41, 42, 43,\n",
              "       44, 45, 46, 47, 48, 49, 50])"
            ]
          },
          "metadata": {},
          "execution_count": 9
        }
      ],
      "source": [
        "np.arange(10, 51)"
      ]
    },
    {
      "cell_type": "code",
      "execution_count": 10,
      "metadata": {
        "id": "wLFU6bKaTKXH"
      },
      "outputs": [],
      "source": [
        "# NO ESCRIBAS AQUI"
      ]
    },
    {
      "cell_type": "markdown",
      "metadata": {
        "id": "LI8Bw_BuTKXI"
      },
      "source": [
        "#### 6. Crea un arreglo con todos los enteros pares del 10 al 50"
      ]
    },
    {
      "cell_type": "code",
      "execution_count": 11,
      "metadata": {
        "collapsed": true,
        "jupyter": {
          "outputs_hidden": true
        },
        "id": "tHKN7mAATKXJ",
        "colab": {
          "base_uri": "https://localhost:8080/"
        },
        "outputId": "56c88e23-cab7-4fe9-c1b6-49f3d85018e3"
      },
      "outputs": [
        {
          "output_type": "execute_result",
          "data": {
            "text/plain": [
              "array([10, 12, 14, 16, 18, 20, 22, 24, 26, 28, 30, 32, 34, 36, 38, 40, 42,\n",
              "       44, 46, 48, 50])"
            ]
          },
          "metadata": {},
          "execution_count": 11
        }
      ],
      "source": [
        "np.arange(10, 52, 2)"
      ]
    },
    {
      "cell_type": "code",
      "execution_count": 12,
      "metadata": {
        "id": "4LzG1pAqTKXK"
      },
      "outputs": [],
      "source": [
        "# NO ESCRIBAS AQUI"
      ]
    },
    {
      "cell_type": "markdown",
      "metadata": {
        "id": "CqPE2Wf9TKXK"
      },
      "source": [
        "#### 7. Crea una matriz 3x3 con valores del 0 al 8"
      ]
    },
    {
      "cell_type": "code",
      "execution_count": 13,
      "metadata": {
        "collapsed": true,
        "jupyter": {
          "outputs_hidden": true
        },
        "id": "8cr38jEkTKXM",
        "colab": {
          "base_uri": "https://localhost:8080/"
        },
        "outputId": "cbf67a4e-d20e-4eaf-a2f4-e920918ca771"
      },
      "outputs": [
        {
          "output_type": "execute_result",
          "data": {
            "text/plain": [
              "array([[0, 1, 2],\n",
              "       [3, 4, 5],\n",
              "       [6, 7, 8]])"
            ]
          },
          "metadata": {},
          "execution_count": 13
        }
      ],
      "source": [
        "np.arange(0,9).reshape(3,3)"
      ]
    },
    {
      "cell_type": "code",
      "execution_count": 14,
      "metadata": {
        "id": "9R6vACrjTKXM"
      },
      "outputs": [],
      "source": [
        "# NO ESCRIBAS AQUI"
      ]
    },
    {
      "cell_type": "markdown",
      "metadata": {
        "id": "bUVVK5ghTKXN"
      },
      "source": [
        "#### 8. Crea una matriz identidad 3x3"
      ]
    },
    {
      "cell_type": "code",
      "execution_count": 15,
      "metadata": {
        "collapsed": true,
        "jupyter": {
          "outputs_hidden": true
        },
        "id": "LWPK366JTKXN",
        "colab": {
          "base_uri": "https://localhost:8080/"
        },
        "outputId": "79b35768-198e-4869-d483-2cc900157df8"
      },
      "outputs": [
        {
          "output_type": "execute_result",
          "data": {
            "text/plain": [
              "array([[1., 0., 0.],\n",
              "       [0., 1., 0.],\n",
              "       [0., 0., 1.]])"
            ]
          },
          "metadata": {},
          "execution_count": 15
        }
      ],
      "source": [
        "np.eye(3)"
      ]
    },
    {
      "cell_type": "code",
      "execution_count": 16,
      "metadata": {
        "id": "DKlsZuDWTKXO"
      },
      "outputs": [],
      "source": [
        "# NO ESCRIBAS AQUI"
      ]
    },
    {
      "cell_type": "markdown",
      "metadata": {
        "id": "LgIBG0AeTKXP"
      },
      "source": [
        "#### 9. Utiliza NumPy para generar un número aleatorio entre 0 y 1. <br><br>&emsp;NOTA: Tu resultado podría ser diferente al valor mostrado abajo."
      ]
    },
    {
      "cell_type": "code",
      "execution_count": 17,
      "metadata": {
        "collapsed": true,
        "jupyter": {
          "outputs_hidden": true
        },
        "id": "byGYPd87TKXQ",
        "colab": {
          "base_uri": "https://localhost:8080/"
        },
        "outputId": "55f5b29d-bef1-4ab6-cfb8-cea63cfa3cdf"
      },
      "outputs": [
        {
          "output_type": "execute_result",
          "data": {
            "text/plain": [
              "array([0])"
            ]
          },
          "metadata": {},
          "execution_count": 17
        }
      ],
      "source": [
        "np.random.randint(0, 1, 1)"
      ]
    },
    {
      "cell_type": "code",
      "execution_count": 18,
      "metadata": {
        "id": "-nODCbrwTKXQ"
      },
      "outputs": [],
      "source": [
        "# NO ESCRIBAS AQUI"
      ]
    },
    {
      "cell_type": "markdown",
      "metadata": {
        "id": "EjPDh0EqTKXR"
      },
      "source": [
        "#### 10. Utiliza NumPy para generar un arreglo de 25 números aleatorios a partir de una distribución normal estándar.<br><br>&emsp;&ensp;NOTA: Tus resultados podrías ser distintos de los mostrados abajo."
      ]
    },
    {
      "cell_type": "code",
      "execution_count": 19,
      "metadata": {
        "collapsed": true,
        "jupyter": {
          "outputs_hidden": true
        },
        "id": "AHsctAEXTKXR",
        "colab": {
          "base_uri": "https://localhost:8080/"
        },
        "outputId": "d6f97fff-a85c-4605-9c32-ae57c7373480"
      },
      "outputs": [
        {
          "output_type": "execute_result",
          "data": {
            "text/plain": [
              "array([0.79737222, 0.83395913, 0.18375082, 0.07819707, 0.43459983])"
            ]
          },
          "metadata": {},
          "execution_count": 19
        }
      ],
      "source": [
        "np.random.random(5)"
      ]
    },
    {
      "cell_type": "code",
      "execution_count": 20,
      "metadata": {
        "id": "CiDMF4OYTKXS"
      },
      "outputs": [],
      "source": [
        "# NO ESCRIBAS AQUI"
      ]
    },
    {
      "cell_type": "markdown",
      "metadata": {
        "id": "GAATUzakTKXS"
      },
      "source": [
        "#### 11. Crea la siguiente matriz:"
      ]
    },
    {
      "cell_type": "code",
      "execution_count": 21,
      "metadata": {
        "collapsed": true,
        "jupyter": {
          "outputs_hidden": true
        },
        "id": "nJ1KQ2IBTKXT",
        "colab": {
          "base_uri": "https://localhost:8080/"
        },
        "outputId": "d8c14f82-d5db-4bef-a87a-9493e4ca9957"
      },
      "outputs": [
        {
          "output_type": "execute_result",
          "data": {
            "text/plain": [
              "array([[0.01, 0.02, 0.03, 0.04, 0.05, 0.06, 0.07, 0.08, 0.09, 0.1 ],\n",
              "       [0.11, 0.12, 0.13, 0.14, 0.15, 0.16, 0.17, 0.18, 0.19, 0.2 ],\n",
              "       [0.21, 0.22, 0.23, 0.24, 0.25, 0.26, 0.27, 0.28, 0.29, 0.3 ],\n",
              "       [0.31, 0.32, 0.33, 0.34, 0.35, 0.36, 0.37, 0.38, 0.39, 0.4 ],\n",
              "       [0.41, 0.42, 0.43, 0.44, 0.45, 0.46, 0.47, 0.48, 0.49, 0.5 ],\n",
              "       [0.51, 0.52, 0.53, 0.54, 0.55, 0.56, 0.57, 0.58, 0.59, 0.6 ],\n",
              "       [0.61, 0.62, 0.63, 0.64, 0.65, 0.66, 0.67, 0.68, 0.69, 0.7 ],\n",
              "       [0.71, 0.72, 0.73, 0.74, 0.75, 0.76, 0.77, 0.78, 0.79, 0.8 ],\n",
              "       [0.81, 0.82, 0.83, 0.84, 0.85, 0.86, 0.87, 0.88, 0.89, 0.9 ],\n",
              "       [0.91, 0.92, 0.93, 0.94, 0.95, 0.96, 0.97, 0.98, 0.99, 1.  ]])"
            ]
          },
          "metadata": {},
          "execution_count": 21
        }
      ],
      "source": [
        "np.arange(0.01, 1.01, 0.01).reshape(10,10)"
      ]
    },
    {
      "cell_type": "code",
      "execution_count": 22,
      "metadata": {
        "id": "o5QoniPKTKXT"
      },
      "outputs": [],
      "source": [
        "# NO ESCRIBAS AQUI"
      ]
    },
    {
      "cell_type": "markdown",
      "metadata": {
        "id": "o8ZhrFf9TKXT"
      },
      "source": [
        "#### 12. Crea un arreglo de 20 puntos entre 0 y 1 linealmente espaciados:"
      ]
    },
    {
      "cell_type": "code",
      "execution_count": 23,
      "metadata": {
        "collapsed": true,
        "jupyter": {
          "outputs_hidden": true
        },
        "id": "FMSGu7syTKXU",
        "colab": {
          "base_uri": "https://localhost:8080/"
        },
        "outputId": "f0b109b8-a560-4a9b-a496-70800aa870ea"
      },
      "outputs": [
        {
          "output_type": "execute_result",
          "data": {
            "text/plain": [
              "array([0.        , 0.05263158, 0.10526316, 0.15789474, 0.21052632,\n",
              "       0.26315789, 0.31578947, 0.36842105, 0.42105263, 0.47368421,\n",
              "       0.52631579, 0.57894737, 0.63157895, 0.68421053, 0.73684211,\n",
              "       0.78947368, 0.84210526, 0.89473684, 0.94736842, 1.        ])"
            ]
          },
          "metadata": {},
          "execution_count": 23
        }
      ],
      "source": [
        "np.linspace(0, 1, 20)"
      ]
    },
    {
      "cell_type": "code",
      "execution_count": 24,
      "metadata": {
        "id": "L9qdbLKiTKXU"
      },
      "outputs": [],
      "source": [
        "# NO ESCRIBAS AQUI"
      ]
    },
    {
      "cell_type": "markdown",
      "metadata": {
        "id": "RdUcoyHbTKXV"
      },
      "source": [
        "## Selección e indexado con NumPy\n",
        "\n",
        "Se te dará una matriz inicial (asegurate de ejecutar la celda de abajo), y se te pedira que repliques las matrices resultantes que aparecen abajo:"
      ]
    },
    {
      "cell_type": "code",
      "execution_count": 25,
      "metadata": {
        "id": "JsAaRO3TTKXV",
        "outputId": "51d8754d-6349-4f12-b1e7-aaedf8e578e4",
        "colab": {
          "base_uri": "https://localhost:8080/"
        }
      },
      "outputs": [
        {
          "output_type": "execute_result",
          "data": {
            "text/plain": [
              "array([[ 1,  2,  3,  4,  5],\n",
              "       [ 6,  7,  8,  9, 10],\n",
              "       [11, 12, 13, 14, 15],\n",
              "       [16, 17, 18, 19, 20],\n",
              "       [21, 22, 23, 24, 25]])"
            ]
          },
          "metadata": {},
          "execution_count": 25
        }
      ],
      "source": [
        "# EJECUTA ESTA CELDA- ES NUESTRA MATRIZ INICIAL\n",
        "mat = np.arange(1,26).reshape(5,5)\n",
        "mat"
      ]
    },
    {
      "cell_type": "markdown",
      "metadata": {
        "id": "8C02kzmlTKXW"
      },
      "source": [
        "#### 13. Escribe el código que reproduca la salida mostrada abajo. <br><br>&emsp;&ensp; Ten cuidado de no ejecutar la celda inmediantemente arriba de la salida, de otra manera no serás capas de ver la matriz resultado."
      ]
    },
    {
      "cell_type": "code",
      "execution_count": 26,
      "metadata": {
        "collapsed": true,
        "jupyter": {
          "outputs_hidden": true
        },
        "id": "knOAwYxkTKXW",
        "colab": {
          "base_uri": "https://localhost:8080/"
        },
        "outputId": "62338008-c798-4aaa-d62a-54907f02a261"
      },
      "outputs": [
        {
          "output_type": "execute_result",
          "data": {
            "text/plain": [
              "array([[12, 13, 14, 15],\n",
              "       [17, 18, 19, 20],\n",
              "       [22, 23, 24, 25]])"
            ]
          },
          "metadata": {},
          "execution_count": 26
        }
      ],
      "source": [
        "mat[2:,1:]"
      ]
    },
    {
      "cell_type": "code",
      "execution_count": 27,
      "metadata": {
        "id": "EhXaUu_JTKXW"
      },
      "outputs": [],
      "source": [
        "# NO ESCRIBAS AQUI"
      ]
    },
    {
      "cell_type": "markdown",
      "metadata": {
        "id": "hPHejQiMTKXX"
      },
      "source": [
        "#### 14. Escribe código que reproduzca la siguiente salida:"
      ]
    },
    {
      "cell_type": "code",
      "execution_count": 28,
      "metadata": {
        "id": "NCsXov3ETKXX",
        "colab": {
          "base_uri": "https://localhost:8080/"
        },
        "outputId": "b122f99a-c9e4-49a4-e532-3f5c85fc1cb7"
      },
      "outputs": [
        {
          "output_type": "execute_result",
          "data": {
            "text/plain": [
              "20"
            ]
          },
          "metadata": {},
          "execution_count": 28
        }
      ],
      "source": [
        "mat[3, 4]"
      ]
    },
    {
      "cell_type": "code",
      "execution_count": 29,
      "metadata": {
        "id": "1nH3QUVGTKXY"
      },
      "outputs": [],
      "source": [
        "# NO ESCRIBAS AQUI"
      ]
    },
    {
      "cell_type": "markdown",
      "metadata": {
        "id": "gcjwJ7QdTKXY"
      },
      "source": [
        "#### 15. Escribe código que reproduzca la siguiente salida:"
      ]
    },
    {
      "cell_type": "code",
      "execution_count": 30,
      "metadata": {
        "id": "59-9y5YqTKXZ",
        "colab": {
          "base_uri": "https://localhost:8080/"
        },
        "outputId": "3c204ec0-3665-4630-a6e1-8a436b28cc9b"
      },
      "outputs": [
        {
          "output_type": "execute_result",
          "data": {
            "text/plain": [
              "array([ 2,  7, 12])"
            ]
          },
          "metadata": {},
          "execution_count": 30
        }
      ],
      "source": [
        "mat[0:3, 1]"
      ]
    },
    {
      "cell_type": "code",
      "execution_count": 31,
      "metadata": {
        "id": "f4pchzbETKXZ"
      },
      "outputs": [],
      "source": [
        "# NO ESCRIBAS AQUI"
      ]
    },
    {
      "cell_type": "markdown",
      "metadata": {
        "id": "U3b2sYTXTKXa"
      },
      "source": [
        "#### 16. Escribe código que reproduzca la siguiente salida:"
      ]
    },
    {
      "cell_type": "code",
      "execution_count": 32,
      "metadata": {
        "id": "7Y8ynrXmTKXa",
        "colab": {
          "base_uri": "https://localhost:8080/"
        },
        "outputId": "0a62e70f-b48d-469a-b553-ac6f4a90ea11"
      },
      "outputs": [
        {
          "output_type": "execute_result",
          "data": {
            "text/plain": [
              "array([[21, 22, 23, 24, 25]])"
            ]
          },
          "metadata": {},
          "execution_count": 32
        }
      ],
      "source": [
        "mat[4:]"
      ]
    },
    {
      "cell_type": "code",
      "execution_count": 33,
      "metadata": {
        "id": "lsrhPqzZTKXa"
      },
      "outputs": [],
      "source": [
        "# NO ESCRIBAS AQUI"
      ]
    },
    {
      "cell_type": "markdown",
      "metadata": {
        "id": "qKAe84tETKXb"
      },
      "source": [
        "#### 17. Escribe código que reproduzca la siguiente salida:"
      ]
    },
    {
      "cell_type": "code",
      "execution_count": 34,
      "metadata": {
        "id": "YyVx-zLoTKXc",
        "colab": {
          "base_uri": "https://localhost:8080/"
        },
        "outputId": "584cd4d2-6ce9-4e53-94d0-b3c65d144625"
      },
      "outputs": [
        {
          "output_type": "execute_result",
          "data": {
            "text/plain": [
              "array([[16, 17, 18, 19, 20],\n",
              "       [21, 22, 23, 24, 25]])"
            ]
          },
          "metadata": {},
          "execution_count": 34
        }
      ],
      "source": [
        "mat[3:,:]"
      ]
    },
    {
      "cell_type": "code",
      "execution_count": 35,
      "metadata": {
        "id": "-z43tVGnTKXd"
      },
      "outputs": [],
      "source": [
        "# NO ESCRIBAS AQUI"
      ]
    },
    {
      "cell_type": "markdown",
      "metadata": {
        "id": "GwbJ8LMgTKXe"
      },
      "source": [
        "## Operaciones con NumPy"
      ]
    },
    {
      "cell_type": "markdown",
      "metadata": {
        "id": "AxgbvcSer_lj"
      },
      "source": [
        "Vamos a resolver algunos ejercicios sencillos con Numpy."
      ]
    },
    {
      "cell_type": "code",
      "metadata": {
        "id": "hATxv-Xar_lk",
        "colab": {
          "base_uri": "https://localhost:8080/"
        },
        "outputId": "99ab44e2-0630-4da6-d8f8-b79c001fe7ca"
      },
      "source": [
        "# Definimos un vector\n",
        "x = np.array([1, 2, 3, 4, 5])\n",
        "# Y una matriz\n",
        "m = np.array([[1, 2, 3],[4, 5, 6,], [7, 8, 9]])\n",
        "m"
      ],
      "execution_count": 36,
      "outputs": [
        {
          "output_type": "execute_result",
          "data": {
            "text/plain": [
              "array([[1, 2, 3],\n",
              "       [4, 5, 6],\n",
              "       [7, 8, 9]])"
            ]
          },
          "metadata": {},
          "execution_count": 36
        }
      ]
    },
    {
      "cell_type": "markdown",
      "metadata": {
        "id": "p21wtQc_r_ll"
      },
      "source": [
        "Una operación común que querrá hacer con\n",
        "vectores o matrices es sumar cada elemento.\n",
        "La notación puede dar miedo, pero en realidad es\n",
        "bastante simple:\n",
        "$$\n",
        "\\sum_{i,j = 1}^n m_{ij}\n",
        "$$\n",
        "El símbolo $\\Sigma$ es $\\sigma$ mayúscula\n",
        "y se llama \"sigma\". Significa que para alguna matriz $m$, donde $i$ representa una fila y $j$ representa una columna, sume todos los elementos. $n$ se refiere al número de elementos de la variable $m$.\n",
        "\n",
        "Aunque puede implementar esta operación usando un bucle for, NumPy lo hace fácil al proporcionar un método `sum`.\n",
        "\n",
        "Intente implementarlo ahora `m.sum ()`, debes obetener el valor 45."
      ]
    },
    {
      "cell_type": "code",
      "metadata": {
        "nbgrader": {
          "grade": false,
          "grade_id": "cell-5d4dc90f4acbb3fb",
          "locked": false,
          "schema_version": 3,
          "solution": true,
          "task": false
        },
        "id": "DjXqBtW_r_lt",
        "colab": {
          "base_uri": "https://localhost:8080/"
        },
        "outputId": "1c38eb2c-8362-4381-8357-3ff9f84b2756"
      },
      "source": [
        "np.sum(m)"
      ],
      "execution_count": 37,
      "outputs": [
        {
          "output_type": "execute_result",
          "data": {
            "text/plain": [
              "45"
            ]
          },
          "metadata": {},
          "execution_count": 37
        }
      ]
    },
    {
      "cell_type": "markdown",
      "metadata": {
        "id": "cTb-EvJVr_l1"
      },
      "source": [
        "Otra operación común es multiplicar cada\n",
        "valor en un vector o matriz. Esto parece\n",
        "esto:\n",
        "$$\n",
        "\\prod_{i,j=1}^n m_{ij}\n",
        "$$\n",
        "\n",
        "El símbolo $\\Pi$ es un símbolo $\\pi$ mayúscula, pronunciado \"pi\". Implemente esta ecuación de manera similar usando la función `prod`, debe obtener 362880. "
      ]
    },
    {
      "cell_type": "code",
      "metadata": {
        "nbgrader": {
          "grade": false,
          "grade_id": "cell-2eb086246d923c4a",
          "locked": false,
          "schema_version": 3,
          "solution": true,
          "task": false
        },
        "id": "JEaTfw6ir_l2",
        "colab": {
          "base_uri": "https://localhost:8080/"
        },
        "outputId": "d74c52c9-580d-404c-a412-4646fe754573"
      },
      "source": [
        "np.prod(m)"
      ],
      "execution_count": 38,
      "outputs": [
        {
          "output_type": "execute_result",
          "data": {
            "text/plain": [
              "362880"
            ]
          },
          "metadata": {},
          "execution_count": 38
        }
      ]
    },
    {
      "cell_type": "markdown",
      "metadata": {
        "id": "46KMmynlTKXe"
      },
      "source": [
        "#### 18. Obten la suma de todos los valores en mat"
      ]
    },
    {
      "cell_type": "code",
      "execution_count": 39,
      "metadata": {
        "collapsed": true,
        "jupyter": {
          "outputs_hidden": true
        },
        "id": "bjDkujMYTKXe",
        "colab": {
          "base_uri": "https://localhost:8080/"
        },
        "outputId": "cc850a0f-f980-4239-d5b0-1cddd53d058f"
      },
      "outputs": [
        {
          "output_type": "execute_result",
          "data": {
            "text/plain": [
              "325"
            ]
          },
          "metadata": {},
          "execution_count": 39
        }
      ],
      "source": [
        "np.sum(mat)"
      ]
    },
    {
      "cell_type": "code",
      "execution_count": 40,
      "metadata": {
        "id": "uoSYJ4OcTKXe"
      },
      "outputs": [],
      "source": [
        "# NO ESCRIBAS AQUI"
      ]
    },
    {
      "cell_type": "markdown",
      "metadata": {
        "id": "zgXWaX2ETKXf"
      },
      "source": [
        "¡Perfecto! Ahora, implementemos la desviación estándar:\n",
        "$$\n",
        "\\sqrt{\\frac{1}{n-1}\\sum_{i=1}^n (x_i - \\bar{x})^2}\n",
        "$$\n",
        "\n",
        "Recuerde que $ \\bar {x} $ se refiere a la media aritmética de $ x $.\n",
        "En lugar de implementarlo desde cero, simplemente puede llamar a `x.mean ()`.\n",
        "\n",
        "#### 19. Obtén la desviación estándar de los valores en mat"
      ]
    },
    {
      "cell_type": "code",
      "execution_count": 41,
      "metadata": {
        "collapsed": true,
        "jupyter": {
          "outputs_hidden": true
        },
        "id": "Btf_3As1TKXf",
        "colab": {
          "base_uri": "https://localhost:8080/"
        },
        "outputId": "d1cf4cb8-8fc8-409f-b12e-2b60a47ffec6"
      },
      "outputs": [
        {
          "output_type": "execute_result",
          "data": {
            "text/plain": [
              "13.0"
            ]
          },
          "metadata": {},
          "execution_count": 41
        }
      ],
      "source": [
        "np.mean(mat)"
      ]
    },
    {
      "cell_type": "code",
      "execution_count": 42,
      "metadata": {
        "id": "hyTMyCoUTKXf"
      },
      "outputs": [],
      "source": [
        "# NO ESCRIBAS AQUI"
      ]
    },
    {
      "cell_type": "markdown",
      "metadata": {
        "id": "_lzw5H9rTKXg"
      },
      "source": [
        "#### 20. Obtén la suma de todas las columnas en mat"
      ]
    },
    {
      "cell_type": "code",
      "execution_count": 42,
      "metadata": {
        "collapsed": true,
        "jupyter": {
          "outputs_hidden": true
        },
        "id": "mZfcjSs8TKXg"
      },
      "outputs": [],
      "source": []
    },
    {
      "cell_type": "code",
      "execution_count": 43,
      "metadata": {
        "id": "bZpbW_cHTKXg"
      },
      "outputs": [],
      "source": [
        "# NO ESCRIBAS AQUI"
      ]
    },
    {
      "cell_type": "markdown",
      "metadata": {
        "id": "14lKUa-KTKXh"
      },
      "source": [
        "Hicimos muchos ejercicios con números aleatorios con NumPy, ¿Existe alguna manera en la que podamos obtener siempre la misma salida? [Haz click aqui para una pista](https://www.google.com/search?q=numpy+random+seed&rlz=1C1CHBF_enUS747US747&oq=numpy+random+seed&aqs=chrome..69i57j69i60j0l4.2087j0j7&sourceid=chrome&ie=UTF-8)"
      ]
    },
    {
      "cell_type": "code",
      "execution_count": 44,
      "metadata": {
        "collapsed": true,
        "jupyter": {
          "outputs_hidden": true
        },
        "id": "fcsoRfbdTKXh"
      },
      "outputs": [],
      "source": [
        "# Tu código aquí"
      ]
    },
    {
      "cell_type": "markdown",
      "metadata": {
        "id": "AY0g9wEcr_l3"
      },
      "source": [
        "¡Estupendo! Ahora está listo para implementar algunos\n",
        "ecuaciones básicas! Empecemos con la\n",
        "media aritmética:\n",
        "$$\n",
        "\\bar{x} = \\frac{1}{n}\\times \\sum_{i=1}^n x_i\n",
        "$$\n",
        "\n",
        "Esto simplemente significa agregar cada elemento de un\n",
        "lista y dividiendo el resultado por el número de\n",
        "elementos en $ x $. Una barra sobre una variable ($ \\bar {x} $) se refiere a un tipo de media.\n",
        "\n",
        "**Hint:** Puedes obtener la cantidad de elementos\n",
        "en una matriz en NumPy con `x.size` ..\n",
        "\n",
        "\n",
        "Comúnmente conocido como: PROMEDIO\n",
        "\n",
        "#### 21. Calcula la media aritmética de `m` y guardala en la variable 'mean' "
      ]
    },
    {
      "cell_type": "code",
      "metadata": {
        "nbgrader": {
          "grade": false,
          "grade_id": "cell-3d867ae3bcaefbfc",
          "locked": false,
          "schema_version": 3,
          "solution": true,
          "task": false
        },
        "id": "Fjqiqnp0r_l3",
        "colab": {
          "base_uri": "https://localhost:8080/"
        },
        "outputId": "05dd97d2-fd64-4ad0-ae9f-8f77c5d36df2"
      },
      "source": [
        "mean = 0\n",
        "\n",
        "# Tu código aquí\n",
        "\n",
        "print(f'Calulaste una media de {mean}, debería ser 3.0')"
      ],
      "execution_count": 45,
      "outputs": [
        {
          "output_type": "stream",
          "name": "stdout",
          "text": [
            "Calulaste una media de 0, debería ser 3.0\n"
          ]
        }
      ]
    },
    {
      "cell_type": "markdown",
      "metadata": {
        "id": "gC5d3CZpr_l4"
      },
      "source": [
        "¡Buen trabajo! Ahora implementemos algo conocido\n",
        "como la norma Frobenius (Euclidean norm, norma de un vector, distancia entre dos puntos):\n",
        "$$\n",
        "\\Vert m \\Vert_F = \\left(\n",
        "    \\sum_{i,j=1}^n m_{ij}^2\n",
        "    \\right)^{1/2}\n",
        "$$\n",
        "\n",
        "**Hint:** Puede implementar esto de varias formas, usando operadores (`**`), funciones (`np.sqrt`) y métodos (` .sum`).\n",
        "\n",
        "#### 22. Calcula la norma Frobenius para `m`y guardala en la variable f_norm"
      ]
    },
    {
      "cell_type": "code",
      "metadata": {
        "nbgrader": {
          "grade": false,
          "grade_id": "cell-be7bfeba5b0e4093",
          "locked": false,
          "schema_version": 3,
          "solution": true,
          "task": false
        },
        "id": "AmQ9_LTQr_l5",
        "colab": {
          "base_uri": "https://localhost:8080/"
        },
        "outputId": "f3ec64c2-41e8-40f4-a9e0-9620b9dd0339"
      },
      "source": [
        "f_norm = 0\n",
        "\n",
        "# Tu código aquí\n",
        "\n",
        "print(f'La norma Frobenius que encontraste es {round(f_norm, 4)}, y esta debe de ser 16.8819')"
      ],
      "execution_count": 46,
      "outputs": [
        {
          "output_type": "stream",
          "name": "stdout",
          "text": [
            "La norma Frobenius que encontraste es 0, y esta debe de ser 16.8819\n"
          ]
        }
      ]
    },
    {
      "cell_type": "markdown",
      "metadata": {
        "id": "S8CHM9cer_mG"
      },
      "source": [
        "#### 23. Como un último reto, vamos a calcular una matriz de distancias en numpy.\n",
        "Implementa una función que tome como entrada una matrix de datos, donde cada fila es una observación y cada columna una variable, y devuelva otra matriz, la matriz de distancias.\n",
        "\n",
        "La matriz de distancias es muy utilizado en algoritmos de aprendizaje y tiene la siguiente forma:\n",
        "\n",
        "$$\n",
        "D = \\begin{pmatrix}\n",
        "d(x_1,x_1) & d(x_1,x_2) & \\dots & d(x_1,x_n)\\\\\n",
        "d(x_2,x_1) & d(x_2,x_2) & \\dots & d(x_2,x_n)\\\\\n",
        "\\vdots & \\vdots & \\ddots & \\vdots\\\\\n",
        "d(x_n,x_1) & d(x_n,x_2) & \\dots & d(x_n,x_n)\n",
        "\\end{pmatrix}\n",
        "$$\n",
        "\n",
        "Es una matrix NxN, donde N es el número de observaciones en la matriz de datos. Cada entrada de la matriz $d(x_i,x_j)$ es la distancia entre observación $i$ y $j$, y se calcula como\n",
        "\n",
        "$$\n",
        "d(x_i,x_j) = \\sqrt{\\sum_l (x_{il} - x_{jl})^2}\n",
        "$$\n",
        "\n",
        "Es decir, resta cada variable, elemento por elemento, de los vectores de observación, eleva las restas al cuadrado y suma todas. Al final saca la raíz. Esta es la distancia euclidiana o norma-2.\n",
        "\n",
        "Una de las maneras mas eficientes en computo, aunque no en memoria, es hacer un broadcast en 3D, aunque no es la única manera."
      ]
    },
    {
      "cell_type": "code",
      "metadata": {
        "id": "1TRYNU_Yr_mI"
      },
      "source": [
        "def distance_matrix(X):\n",
        "    \"\"\"Retorna la DISTANCIA EUCLIDIANA entre los puntos (datos) de la matriz X. \"\"\"\n",
        "    \n",
        "    # Tu código aquí\n",
        "\n",
        "\n",
        "    return D"
      ],
      "execution_count": 47,
      "outputs": []
    },
    {
      "cell_type": "code",
      "metadata": {
        "id": "pVUB-cxay7LS"
      },
      "source": [],
      "execution_count": 47,
      "outputs": []
    },
    {
      "cell_type": "markdown",
      "metadata": {
        "id": "8_zQWY4Cr_mI"
      },
      "source": [
        "## References\n",
        "- Adapted from: https://mathtocode.com/ by Vernon Thommeret"
      ]
    },
    {
      "cell_type": "code",
      "source": [],
      "metadata": {
        "id": "pTwAjCStphQr"
      },
      "execution_count": null,
      "outputs": []
    }
  ]
}